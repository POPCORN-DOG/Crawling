{
 "cells": [
  {
   "cell_type": "code",
   "execution_count": 1,
   "metadata": {},
   "outputs": [],
   "source": [
    "import requests\n",
    "import warnings\n",
    "import pandas as pd\n",
    "from pandas import DataFrame\n",
    "from bs4 import BeautifulSoup\n",
    "from tqdm import tqdm_notebook, tnrange\n",
    "\n",
    "warnings.filterwarnings(action='ignore')\n",
    "# 경고 메시지를 무시하고 숨기거나 다시보이게 하기('default')\n",
    "\n",
    "pd.set_option(\"display.max_rows\", None , \"display.max_columns\", None)\n",
    "# 데이터 프레임 스크린 뷰 갯수 설정\n",
    "\n",
    "# requests.get(url)에서\n",
    "# python httpsconnectionpool error 시 대처 요령 ==================================\n",
    "# requests 모듈에서 로컬 컴퓨터의 SSL인증(보안)을 확인하는 부분에 문제가 있는 것으로 보인다.\n",
    "# 1. 관리자 권한으로 VS Code를 실행 후 코드를 동작 시킨다.\n",
    "# 2. 다음 방법은 보안 연결을 하지 않는 것이다 \n",
    "# \"requests.get(url,verify=False).text\"형태로 작성\n",
    "# =============================================================================="
   ]
  },
  {
   "cell_type": "code",
   "execution_count": 2,
   "metadata": {
    "scrolled": true
   },
   "outputs": [
    {
     "data": {
      "application/vnd.jupyter.widget-view+json": {
       "model_id": "3012d6eb69b746f8aee317cd8e9f0554",
       "version_major": 2,
       "version_minor": 0
      },
      "text/plain": [
       "HBox(children=(IntProgress(value=0, description='대 카테고리', max=2, style=ProgressStyle(description_width='initia…"
      ]
     },
     "metadata": {},
     "output_type": "display_data"
    },
    {
     "data": {
      "application/vnd.jupyter.widget-view+json": {
       "model_id": "516b022098dd4de29837687106098bef",
       "version_major": 2,
       "version_minor": 0
      },
      "text/plain": [
       "HBox(children=(IntProgress(value=0, description='중 카테고리', max=9, style=ProgressStyle(description_width='initia…"
      ]
     },
     "metadata": {},
     "output_type": "display_data"
    },
    {
     "name": "stdout",
     "output_type": "stream",
     "text": [
      "\n"
     ]
    },
    {
     "data": {
      "application/vnd.jupyter.widget-view+json": {
       "model_id": "8c7650884546486a8ace684dc4f7c61e",
       "version_major": 2,
       "version_minor": 0
      },
      "text/plain": [
       "HBox(children=(IntProgress(value=0, description='소 카테고리', max=68, style=ProgressStyle(description_width='initi…"
      ]
     },
     "metadata": {},
     "output_type": "display_data"
    },
    {
     "name": "stdout",
     "output_type": "stream",
     "text": [
      "\n"
     ]
    },
    {
     "data": {
      "application/vnd.jupyter.widget-view+json": {
       "model_id": "0c261b7d9cd74cb2846b27d92a04c649",
       "version_major": 2,
       "version_minor": 0
      },
      "text/plain": [
       "HBox(children=(IntProgress(value=0, description='세부 카테고리', max=213, style=ProgressStyle(description_width='ini…"
      ]
     },
     "metadata": {},
     "output_type": "display_data"
    },
    {
     "name": "stdout",
     "output_type": "stream",
     "text": [
      "\n"
     ]
    },
    {
     "data": {
      "application/vnd.jupyter.widget-view+json": {
       "model_id": "1ebf949cc2524e5e8413069716859686",
       "version_major": 2,
       "version_minor": 0
      },
      "text/plain": [
       "HBox(children=(IntProgress(value=0, description='중 카테고리', max=35, style=ProgressStyle(description_width='initi…"
      ]
     },
     "metadata": {},
     "output_type": "display_data"
    },
    {
     "name": "stdout",
     "output_type": "stream",
     "text": [
      "\n"
     ]
    },
    {
     "data": {
      "application/vnd.jupyter.widget-view+json": {
       "model_id": "08abcbc12a8e4ee694f9a5eb60e91f63",
       "version_major": 2,
       "version_minor": 0
      },
      "text/plain": [
       "HBox(children=(IntProgress(value=0, description='소 카테고리', max=307, style=ProgressStyle(description_width='init…"
      ]
     },
     "metadata": {},
     "output_type": "display_data"
    },
    {
     "name": "stdout",
     "output_type": "stream",
     "text": [
      "\n"
     ]
    },
    {
     "data": {
      "application/vnd.jupyter.widget-view+json": {
       "model_id": "c5d1db47eb1b4cc68195e0cc8c3fbea2",
       "version_major": 2,
       "version_minor": 0
      },
      "text/plain": [
       "HBox(children=(IntProgress(value=0, description='세부 카테고리', max=871, style=ProgressStyle(description_width='ini…"
      ]
     },
     "metadata": {},
     "output_type": "display_data"
    },
    {
     "name": "stdout",
     "output_type": "stream",
     "text": [
      "\n",
      "\n"
     ]
    },
    {
     "ename": "ValueError",
     "evalue": "Length of values (2) does not match length of index (1084)",
     "output_type": "error",
     "traceback": [
      "\u001b[1;31m---------------------------------------------------------------------------\u001b[0m",
      "\u001b[1;31mValueError\u001b[0m                                Traceback (most recent call last)",
      "\u001b[1;32m<ipython-input-2-94967e7ee23e>\u001b[0m in \u001b[0;36m<module>\u001b[1;34m\u001b[0m\n\u001b[0;32m     69\u001b[0m \u001b[1;31m# (코드 수정 후) 기준 데이터 프레임 생성 후 원하는 위치에 리스트 열 추가 ============\u001b[0m\u001b[1;33m\u001b[0m\u001b[1;33m\u001b[0m\u001b[1;33m\u001b[0m\u001b[0m\n\u001b[0;32m     70\u001b[0m \u001b[0mdf\u001b[0m \u001b[1;33m=\u001b[0m \u001b[0mDataFrame\u001b[0m\u001b[1;33m(\u001b[0m\u001b[0mcategory\u001b[0m\u001b[1;33m,\u001b[0m\u001b[0mcolumns\u001b[0m\u001b[1;33m=\u001b[0m\u001b[1;33m[\u001b[0m\u001b[1;34m'대'\u001b[0m\u001b[1;33m,\u001b[0m\u001b[1;34m'중'\u001b[0m\u001b[1;33m,\u001b[0m\u001b[1;34m'소'\u001b[0m\u001b[1;33m,\u001b[0m\u001b[1;34m'세부'\u001b[0m\u001b[1;33m]\u001b[0m\u001b[1;33m)\u001b[0m\u001b[1;33m\u001b[0m\u001b[1;33m\u001b[0m\u001b[0m\n\u001b[1;32m---> 71\u001b[1;33m \u001b[0mdf\u001b[0m\u001b[1;33m.\u001b[0m\u001b[0minsert\u001b[0m\u001b[1;33m(\u001b[0m\u001b[1;36m0\u001b[0m\u001b[1;33m,\u001b[0m\u001b[1;34m\"url\"\u001b[0m\u001b[1;33m,\u001b[0m\u001b[0mURL\u001b[0m\u001b[1;33m,\u001b[0m\u001b[1;32mTrue\u001b[0m\u001b[1;33m)\u001b[0m\u001b[1;33m\u001b[0m\u001b[1;33m\u001b[0m\u001b[0m\n\u001b[0m\u001b[0;32m     72\u001b[0m \u001b[1;33m\u001b[0m\u001b[0m\n\u001b[0;32m     73\u001b[0m \u001b[1;31m# 저장\u001b[0m\u001b[1;33m\u001b[0m\u001b[1;33m\u001b[0m\u001b[1;33m\u001b[0m\u001b[0m\n",
      "\u001b[1;32mC:\\Anaconda3\\lib\\site-packages\\pandas\\core\\frame.py\u001b[0m in \u001b[0;36minsert\u001b[1;34m(self, loc, column, value, allow_duplicates)\u001b[0m\n\u001b[0;32m   3618\u001b[0m         \"\"\"\n\u001b[0;32m   3619\u001b[0m         \u001b[0mself\u001b[0m\u001b[1;33m.\u001b[0m\u001b[0m_ensure_valid_index\u001b[0m\u001b[1;33m(\u001b[0m\u001b[0mvalue\u001b[0m\u001b[1;33m)\u001b[0m\u001b[1;33m\u001b[0m\u001b[1;33m\u001b[0m\u001b[0m\n\u001b[1;32m-> 3620\u001b[1;33m         \u001b[0mvalue\u001b[0m \u001b[1;33m=\u001b[0m \u001b[0mself\u001b[0m\u001b[1;33m.\u001b[0m\u001b[0m_sanitize_column\u001b[0m\u001b[1;33m(\u001b[0m\u001b[0mcolumn\u001b[0m\u001b[1;33m,\u001b[0m \u001b[0mvalue\u001b[0m\u001b[1;33m,\u001b[0m \u001b[0mbroadcast\u001b[0m\u001b[1;33m=\u001b[0m\u001b[1;32mFalse\u001b[0m\u001b[1;33m)\u001b[0m\u001b[1;33m\u001b[0m\u001b[1;33m\u001b[0m\u001b[0m\n\u001b[0m\u001b[0;32m   3621\u001b[0m         \u001b[0mself\u001b[0m\u001b[1;33m.\u001b[0m\u001b[0m_mgr\u001b[0m\u001b[1;33m.\u001b[0m\u001b[0minsert\u001b[0m\u001b[1;33m(\u001b[0m\u001b[0mloc\u001b[0m\u001b[1;33m,\u001b[0m \u001b[0mcolumn\u001b[0m\u001b[1;33m,\u001b[0m \u001b[0mvalue\u001b[0m\u001b[1;33m,\u001b[0m \u001b[0mallow_duplicates\u001b[0m\u001b[1;33m=\u001b[0m\u001b[0mallow_duplicates\u001b[0m\u001b[1;33m)\u001b[0m\u001b[1;33m\u001b[0m\u001b[1;33m\u001b[0m\u001b[0m\n\u001b[0;32m   3622\u001b[0m \u001b[1;33m\u001b[0m\u001b[0m\n",
      "\u001b[1;32mC:\\Anaconda3\\lib\\site-packages\\pandas\\core\\frame.py\u001b[0m in \u001b[0;36m_sanitize_column\u001b[1;34m(self, key, value, broadcast)\u001b[0m\n\u001b[0;32m   3759\u001b[0m \u001b[1;33m\u001b[0m\u001b[0m\n\u001b[0;32m   3760\u001b[0m             \u001b[1;31m# turn me into an ndarray\u001b[0m\u001b[1;33m\u001b[0m\u001b[1;33m\u001b[0m\u001b[1;33m\u001b[0m\u001b[0m\n\u001b[1;32m-> 3761\u001b[1;33m             \u001b[0mvalue\u001b[0m \u001b[1;33m=\u001b[0m \u001b[0msanitize_index\u001b[0m\u001b[1;33m(\u001b[0m\u001b[0mvalue\u001b[0m\u001b[1;33m,\u001b[0m \u001b[0mself\u001b[0m\u001b[1;33m.\u001b[0m\u001b[0mindex\u001b[0m\u001b[1;33m)\u001b[0m\u001b[1;33m\u001b[0m\u001b[1;33m\u001b[0m\u001b[0m\n\u001b[0m\u001b[0;32m   3762\u001b[0m             \u001b[1;32mif\u001b[0m \u001b[1;32mnot\u001b[0m \u001b[0misinstance\u001b[0m\u001b[1;33m(\u001b[0m\u001b[0mvalue\u001b[0m\u001b[1;33m,\u001b[0m \u001b[1;33m(\u001b[0m\u001b[0mnp\u001b[0m\u001b[1;33m.\u001b[0m\u001b[0mndarray\u001b[0m\u001b[1;33m,\u001b[0m \u001b[0mIndex\u001b[0m\u001b[1;33m)\u001b[0m\u001b[1;33m)\u001b[0m\u001b[1;33m:\u001b[0m\u001b[1;33m\u001b[0m\u001b[1;33m\u001b[0m\u001b[0m\n\u001b[0;32m   3763\u001b[0m                 \u001b[1;32mif\u001b[0m \u001b[0misinstance\u001b[0m\u001b[1;33m(\u001b[0m\u001b[0mvalue\u001b[0m\u001b[1;33m,\u001b[0m \u001b[0mlist\u001b[0m\u001b[1;33m)\u001b[0m \u001b[1;32mand\u001b[0m \u001b[0mlen\u001b[0m\u001b[1;33m(\u001b[0m\u001b[0mvalue\u001b[0m\u001b[1;33m)\u001b[0m \u001b[1;33m>\u001b[0m \u001b[1;36m0\u001b[0m\u001b[1;33m:\u001b[0m\u001b[1;33m\u001b[0m\u001b[1;33m\u001b[0m\u001b[0m\n",
      "\u001b[1;32mC:\\Anaconda3\\lib\\site-packages\\pandas\\core\\internals\\construction.py\u001b[0m in \u001b[0;36msanitize_index\u001b[1;34m(data, index)\u001b[0m\n\u001b[0;32m    746\u001b[0m     \u001b[1;32mif\u001b[0m \u001b[0mlen\u001b[0m\u001b[1;33m(\u001b[0m\u001b[0mdata\u001b[0m\u001b[1;33m)\u001b[0m \u001b[1;33m!=\u001b[0m \u001b[0mlen\u001b[0m\u001b[1;33m(\u001b[0m\u001b[0mindex\u001b[0m\u001b[1;33m)\u001b[0m\u001b[1;33m:\u001b[0m\u001b[1;33m\u001b[0m\u001b[1;33m\u001b[0m\u001b[0m\n\u001b[0;32m    747\u001b[0m         raise ValueError(\n\u001b[1;32m--> 748\u001b[1;33m             \u001b[1;34m\"Length of values \"\u001b[0m\u001b[1;33m\u001b[0m\u001b[1;33m\u001b[0m\u001b[0m\n\u001b[0m\u001b[0;32m    749\u001b[0m             \u001b[1;34mf\"({len(data)}) \"\u001b[0m\u001b[1;33m\u001b[0m\u001b[1;33m\u001b[0m\u001b[0m\n\u001b[0;32m    750\u001b[0m             \u001b[1;34m\"does not match length of index \"\u001b[0m\u001b[1;33m\u001b[0m\u001b[1;33m\u001b[0m\u001b[0m\n",
      "\u001b[1;31mValueError\u001b[0m: Length of values (2) does not match length of index (1084)"
     ]
    }
   ],
   "source": [
    "URL = []      # URL \n",
    "category = [] # 카테고리 글\n",
    "\n",
    "for a in tqdm_notebook(range(100000,100002),desc='대 카테고리'):\n",
    "    url2 = []     # 중 카테고리   여성의류\n",
    "    url3 = []     # 소 카테고리   상의\n",
    "    url4 = []     # 세부 카테고리 티셔츠\n",
    "    url    = \"https://www.lotteon.com/search/render/render.ecn?render=nqapi&platform=pc&collection_id=9&u9=navigate&u8=EC10\" + str(a) + \"&login=Y&mallId=1\"\n",
    "    source = requests.get(url,verify=False).text\n",
    "    soup  = BeautifulSoup(source, \"html.parser\")\n",
    "    soup2 = soup.select('.srchFilterOptions > li > a')\n",
    "    for b in soup2:\n",
    "        url2.append(b['href'])\n",
    "        \n",
    "    for c in tqdm_notebook(url2,desc='중 카테고리'):\n",
    "        source2 = requests.get(c,verify=False).text\n",
    "        soup3   = BeautifulSoup(source2, \"html.parser\")\n",
    "        soup4   = soup3.select('.srchFilterOptions > li > a')\n",
    "        for d in soup4:\n",
    "            url3.append(d['href'])\n",
    "    \n",
    "    for e in tqdm_notebook(url3,desc='소 카테고리'):\n",
    "        source3 = requests.get(e,verify=False).text\n",
    "        soup5   = BeautifulSoup(source3, \"html.parser\")\n",
    "        soup6   = soup5.select('.srchFilterOptions > li > a')\n",
    "        URL = []\n",
    "        URL.append(e)\n",
    "        for f in soup6:\n",
    "            URL.append(f['href'])\n",
    "        url4.append(URL)   \n",
    "            \n",
    "        # 다른 방식\n",
    "        # for a in soup5.find_all('a', href=True)[4:]:\n",
    "        #    b.append(a['href'])    \n",
    "\n",
    "# (코드 수정 전) 카테고리명 한 컬럼에 입력 및 저장 \n",
    "#    for g in tqdm_notebook(range(len(url5)),desc=\"세부 카테고리\"):\n",
    "#        source4 = requests.get(url5[g],verify=False).text\n",
    "#        soup7   = BeautifulSoup(source4, \"html.parser\")\n",
    "#        soup8   = soup7.select(\".srchBreadCrumb\")\n",
    "#        for h in range(len(soup8)):\n",
    "#            category.append(soup8[h].text.replace('\\n','')\n",
    "# \n",
    "# \n",
    "#URL = pd.unique(URL).tolist()\n",
    "#df = pd.DataFrame([x for x in zip(URL, category)], columns=['url','category'])\n",
    "#df.to_csv('LOTTEON.csv',encoding='utf-8-sig')\n",
    "\n",
    "# (코드 수정 후) 각 카테고리명 각 컬럼 할당입력 (+공백제거) ======================\n",
    "#  DateFrame을 만들기 위한 이중 리스트 생성(2차원 리스트)\n",
    "    url5 = sum(url4,[])\n",
    "    url5 = pd.unique(url5).tolist()\n",
    "    for g in tqdm_notebook(range(len(url5)),desc=\"세부 카테고리\"):\n",
    "        source4 = requests.get(url5[g],verify=False).text\n",
    "        soup7   = BeautifulSoup(source4, \"html.parser\")\n",
    "        soup8   = soup7.select(\".srchBreadCrumb > li\")\n",
    "        line = [] # 안쪽 리스트로 사용할 빈 리스트 생성\n",
    "        for i in range(1,len(soup8)): # 안쪽 리스트 데이터\n",
    "            line.append(soup8[i].text.strip()) # 전체 리스트에 안쪽 리스트를 추가\n",
    "        category.append(line)\n",
    "\n",
    "    URL = pd.unique(URL).tolist()\n",
    "\n",
    "# (코드 수정 전) 각 데이터 프레임 생성 후 열 추가방식 ============================\n",
    "#df        = DataFrame(category,columns=['대','중','소','세부'])\n",
    "#df['url'] = DataFrame(url5,columns=['url'])\n",
    "#df        = df[['url','대','중','소','세부']]\n",
    "\n",
    "# (코드 수정 후) 기준 데이터 프레임 생성 후 원하는 위치에 리스트 열 추가 ============\n",
    "df = DataFrame(category,columns=['대','중','소','세부'])\n",
    "df.insert(0,\"url\",URL,True) \n",
    "\n",
    "# 저장\n",
    "df = df.fillna(\"NULL\")\n",
    "df['세부'] = df.replace(['NULL'],'') #Null -> 빈칸으로\n",
    "df.to_csv('LOTTEON.csv',encoding='utf-8-sig')\n",
    "\n",
    "\n",
    "# ===========================================================================\n",
    "# 문제) 소 카테고리로 끝난 품목은 세부 카테고리 열에 소 카테고리가 반복해서 입력된다.\n",
    "# 세부 카테고리(4단계)가 없는 3단계까지의 원피스 url에 들어갈 경우,\n",
    "# 소 카테고리(3단계)가 반복되어 나타난다. 이로인해 세부 카테고리가 있는 경우임에도 불구하고\n",
    "# 소 카테고리의 url과 소 카테고리 명까지의 데이터가 중복되어 입력된다.\n",
    "# (세부 카테고리가 있으면 소 카테고리 url은 제거되어야 한다)\n",
    "\n",
    "# 패션 > 여성의류 > 상의            (제거)\n",
    "# 패션 > 여성의류 > 상의 > 티셔츠    (정상)\n",
    "# 패션 > 여성의류 > 상의 > 니트웨어  (정상)\n",
    "\n",
    "# 해결 0) 결측값 검사 후 전체를 null 혹은 다른 값으로 수정해준다. ===================\n",
    "# 데이터 검사 isnull 후 None(Na)값 수정\n",
    "\n",
    "# na, none null control method\n",
    "# df['세부'].isnull().sum() # null 갯수\n",
    "# df['세부'].isnull().all() # 데이터 모두 null인지 검사\n",
    "# df['세부'].isnull().any() # null이 하나라도 있는지 검사\n",
    "# df.fillna(\"NULL\")\n",
    "\n",
    "# Na의 행열에 대한 제거 \n",
    "# df.dropna() Na값을 하나라도 포함하는 행 삭제\n",
    "# df.dropna(how='all') 행 전체가 Na인 행만 삭제\n",
    "# df.dropna(subset=['특정 열']) 특정 열의 Na가 들어있는 행 삭제\n",
    "\n",
    "# ['소']카테고리의 Na가 들어있는 행은 삭제해야한다.\n",
    "# 카테고리는 기본 level3까지 있이 떄문에 level2까지의 행은 불필요한 데이터\n",
    "# df = df.dropna(subset=['소'])\n",
    "\n",
    "# 그러나 이렇게 하고 해결 1로 들어갔을 때 문제 발생.\n",
    "# 그래서 처음부터 2단계까지 있는 카테고리를 선별하여 해결1 이후 제거하거나\n",
    "# df['소'] = df['소'].fillna('no')\n",
    "# df.fillna({'a':'a','b':'b'}) Na를 각 컬럼별 치환\n",
    "\n",
    "# 선별 없이 제거하는 것을 생각.\n",
    "# df.fillna() 전체 치환\n",
    "df = df.fillna(\"NULL\")\n",
    "\n",
    "# 해결 1) 세부 카테고리가 없는 행의 소 카테고리 명을 가져오고  a ======================\n",
    "a = []\n",
    "b = []\n",
    "for i in range(len(df)):\n",
    "    if df['세부'][i] == 'NULL': \n",
    "        a.append(df['소'][i])  #세부 카테고리가 없는 소 카테고리\n",
    "    else:\n",
    "        a.append('1')\n",
    "        \n",
    "# 해결 2) 세부 카테고리가 있는 행의 소 카테고리 명을 가져온다. b (제거목록) ============\n",
    "    if df['세부'][i] != 'NULL':\n",
    "        b.append(df['소'][i])  #세부 카테고리가 있는 소 카테고리\n",
    "    else:\n",
    "        b.append('NULL')\n",
    "\n",
    "# 해결 3) 각각 데이터 프레임으로 만든 후, b 데이터의 중복을 제거한다. ==================\n",
    "# a1b1 = DataFrame([x for x in zip(a, b)],columns=['a','b'])\n",
    "a1 = DataFrame(a,columns=['a'])                     #세부 카테고리가 없는 소 카테고리\n",
    "b1 = DataFrame(pd.unique(b).tolist(),columns=['a']) #세부 카테고리가 있는 소 카테고리\n",
    "b1['b'] = '삭제' #b1['b'] = b를 입력하면 어떤항목이 삭제되는지 보기 쉽다.\n",
    "\n",
    "# 헤결 4) 중복제거된 b 데이터와 a 데이터의 vlookup을 통해 공통 데이터를 선별한다. =======\n",
    "delete = a1['a'].map(b1.set_index('a')['b'])\n",
    "\n",
    "# 해결 5) 공통 데이터(세부 카테고리까지 있음에도 소 카테고리까지만 입력된 행)를 제거한다.\n",
    "df['delete'] = delete\n",
    "df.drop(df[df['delete'] == '삭제'].index,inplace=True)\n",
    "df.drop(['delete'],axis=1,inplace=True) # inplace 결과값 고정\n",
    "# =============================================================================\n",
    "\n",
    "# 저장 \n",
    "df['세부'] = df['세부'].replace(['NULL'],'') #Null -> 빈칸으로\n",
    "df.to_csv('LOTTEON.csv',encoding='utf-8-sig')"
   ]
  },
  {
   "cell_type": "code",
   "execution_count": null,
   "metadata": {
    "scrolled": true
   },
   "outputs": [],
   "source": [
    "URL = []      # URL \n",
    "category = [] # 카테고리 글\n",
    "\n",
    "for a in tnrange(100000,100002,desc='대 카테고리'):\n",
    "    url2 = []     # 중 카테고리   여성의류\n",
    "    #url3         # 소 카테고리   상의\n",
    "    url4 = []     # 세부 카테고리 티셔츠\n",
    "    url5 = []\n",
    "    url    = \"https://www.lotteon.com/search/render/render.ecn?render=nqapi&platform=pc&collection_id=9&u9=navigate&u8=EC10\" + str(a) + \"&login=Y&mallId=1\"\n",
    "    source = requests.get(url,verify=False).text\n",
    "    soup  = BeautifulSoup(source, \"html.parser\")\n",
    "    soup2 = soup.select('.srchFilterOptions > li > a')\n",
    "    for b in soup2:\n",
    "        url2 = b['href']\n",
    "        source2 = requests.get(url2,verify=False).text\n",
    "        soup3   = BeautifulSoup(source2, \"html.parser\")\n",
    "        soup4   = soup3.select('.srchFilterOptions > li > a')\n",
    "        for c in soup4:\n",
    "            url3 = c['href']\n",
    "            source3 = requests.get(url3,verify=False).text\n",
    "            soup5   = BeautifulSoup(source3, \"html.parser\")\n",
    "            soup6   = soup5.select('.srchFilterOptions > li > a') \n",
    "            # 세부카테고리가 없으면 소카테고리에서 중 카테고리(이전)이 존재하여 중까지 있는 카테고리가 생성됨\n",
    "            url4 = []\n",
    "            url4.append(url3)\n",
    "            for d in soup6:\n",
    "                url4.append(d['href'])  \n",
    "\n",
    "            url5.append(url4)\n",
    "            \n",
    "    url5 = sum(url5,[])\n",
    "    url5 = pd.unique(url5).tolist()\n",
    "    for g in tnrange(len(url5),desc=\"세부 카테고리\"):\n",
    "        source4 = requests.get(url5[g],verify=False).text\n",
    "        soup7   = BeautifulSoup(source4, \"html.parser\")\n",
    "        soup8   = soup7.select(\".srchBreadCrumb > li\")\n",
    "        line = [] # 안쪽 리스트로 사용할 빈 리스트 생성\n",
    "        for i in range(1,len(soup8)): # 안쪽 리스트 데이터\n",
    "            line.append(soup8[i].text.strip()) # 전체 리스트에 안쪽 리스트를 추가\n",
    "        category.append(line)\n",
    "        \n",
    "    URL.append(url5)"
   ]
  },
  {
   "cell_type": "code",
   "execution_count": 4,
   "metadata": {},
   "outputs": [
    {
     "data": {
      "application/vnd.jupyter.widget-view+json": {
       "model_id": "9091ae2f8d284a27b33704c2545efc7f",
       "version_major": 2,
       "version_minor": 0
      },
      "text/plain": [
       "HBox(children=(IntProgress(value=0, description='대 카테고리', max=2, style=ProgressStyle(description_width='initia…"
      ]
     },
     "metadata": {},
     "output_type": "display_data"
    },
    {
     "data": {
      "application/vnd.jupyter.widget-view+json": {
       "model_id": "cf5a77a57ff6489e968f1b1ff72c1cf1",
       "version_major": 2,
       "version_minor": 0
      },
      "text/plain": [
       "HBox(children=(IntProgress(value=0, description='중 카테고리', max=9, style=ProgressStyle(description_width='initia…"
      ]
     },
     "metadata": {},
     "output_type": "display_data"
    },
    {
     "name": "stdout",
     "output_type": "stream",
     "text": [
      "\n"
     ]
    },
    {
     "data": {
      "application/vnd.jupyter.widget-view+json": {
       "model_id": "7eb08fb192f74c259659f1fc50990ff9",
       "version_major": 2,
       "version_minor": 0
      },
      "text/plain": [
       "HBox(children=(IntProgress(value=0, description='소 카테고리', max=68, style=ProgressStyle(description_width='initi…"
      ]
     },
     "metadata": {},
     "output_type": "display_data"
    },
    {
     "name": "stdout",
     "output_type": "stream",
     "text": [
      "\n"
     ]
    },
    {
     "data": {
      "application/vnd.jupyter.widget-view+json": {
       "model_id": "efeab5688e08400aa1ccddcc01382a71",
       "version_major": 2,
       "version_minor": 0
      },
      "text/plain": [
       "HBox(children=(IntProgress(value=0, description='세부 카테고리', max=213, style=ProgressStyle(description_width='ini…"
      ]
     },
     "metadata": {},
     "output_type": "display_data"
    },
    {
     "name": "stdout",
     "output_type": "stream",
     "text": [
      "\n"
     ]
    },
    {
     "data": {
      "application/vnd.jupyter.widget-view+json": {
       "model_id": "f92b9c19dae840b886dc73e298cbfeee",
       "version_major": 2,
       "version_minor": 0
      },
      "text/plain": [
       "HBox(children=(IntProgress(value=0, description='중 카테고리', max=35, style=ProgressStyle(description_width='initi…"
      ]
     },
     "metadata": {},
     "output_type": "display_data"
    },
    {
     "name": "stdout",
     "output_type": "stream",
     "text": [
      "\n"
     ]
    },
    {
     "data": {
      "application/vnd.jupyter.widget-view+json": {
       "model_id": "849f4148b0594dac97d1ae12405474b0",
       "version_major": 2,
       "version_minor": 0
      },
      "text/plain": [
       "HBox(children=(IntProgress(value=0, description='소 카테고리', max=307, style=ProgressStyle(description_width='init…"
      ]
     },
     "metadata": {},
     "output_type": "display_data"
    },
    {
     "name": "stdout",
     "output_type": "stream",
     "text": [
      "\n"
     ]
    },
    {
     "data": {
      "application/vnd.jupyter.widget-view+json": {
       "model_id": "8b0182125a98422baa361795198d0a47",
       "version_major": 2,
       "version_minor": 0
      },
      "text/plain": [
       "HBox(children=(IntProgress(value=0, description='세부 카테고리', max=871, style=ProgressStyle(description_width='ini…"
      ]
     },
     "metadata": {},
     "output_type": "display_data"
    },
    {
     "ename": "KeyboardInterrupt",
     "evalue": "",
     "output_type": "error",
     "traceback": [
      "\u001b[1;31m---------------------------------------------------------------------------\u001b[0m",
      "\u001b[1;31mTypeError\u001b[0m                                 Traceback (most recent call last)",
      "\u001b[1;32mC:\\Anaconda3\\lib\\site-packages\\urllib3\\connectionpool.py\u001b[0m in \u001b[0;36m_make_request\u001b[1;34m(self, conn, method, url, timeout, chunked, **httplib_request_kw)\u001b[0m\n\u001b[0;32m    376\u001b[0m             \u001b[1;32mtry\u001b[0m\u001b[1;33m:\u001b[0m  \u001b[1;31m# Python 2.7, use buffering of HTTP responses\u001b[0m\u001b[1;33m\u001b[0m\u001b[1;33m\u001b[0m\u001b[0m\n\u001b[1;32m--> 377\u001b[1;33m                 \u001b[0mhttplib_response\u001b[0m \u001b[1;33m=\u001b[0m \u001b[0mconn\u001b[0m\u001b[1;33m.\u001b[0m\u001b[0mgetresponse\u001b[0m\u001b[1;33m(\u001b[0m\u001b[0mbuffering\u001b[0m\u001b[1;33m=\u001b[0m\u001b[1;32mTrue\u001b[0m\u001b[1;33m)\u001b[0m\u001b[1;33m\u001b[0m\u001b[1;33m\u001b[0m\u001b[0m\n\u001b[0m\u001b[0;32m    378\u001b[0m             \u001b[1;32mexcept\u001b[0m \u001b[0mTypeError\u001b[0m\u001b[1;33m:\u001b[0m  \u001b[1;31m# Python 3\u001b[0m\u001b[1;33m\u001b[0m\u001b[1;33m\u001b[0m\u001b[0m\n",
      "\u001b[1;31mTypeError\u001b[0m: getresponse() got an unexpected keyword argument 'buffering'",
      "\nDuring handling of the above exception, another exception occurred:\n",
      "\u001b[1;31mKeyboardInterrupt\u001b[0m                         Traceback (most recent call last)",
      "\u001b[1;32m<ipython-input-4-bbf7afc46baf>\u001b[0m in \u001b[0;36m<module>\u001b[1;34m\u001b[0m\n\u001b[0;32m     33\u001b[0m     \u001b[0murl5\u001b[0m \u001b[1;33m=\u001b[0m \u001b[0mpd\u001b[0m\u001b[1;33m.\u001b[0m\u001b[0munique\u001b[0m\u001b[1;33m(\u001b[0m\u001b[0murl5\u001b[0m\u001b[1;33m)\u001b[0m\u001b[1;33m.\u001b[0m\u001b[0mtolist\u001b[0m\u001b[1;33m(\u001b[0m\u001b[1;33m)\u001b[0m\u001b[1;33m\u001b[0m\u001b[1;33m\u001b[0m\u001b[0m\n\u001b[0;32m     34\u001b[0m     \u001b[1;32mfor\u001b[0m \u001b[0mg\u001b[0m \u001b[1;32min\u001b[0m \u001b[0mtqdm_notebook\u001b[0m\u001b[1;33m(\u001b[0m\u001b[0murl5\u001b[0m\u001b[1;33m,\u001b[0m\u001b[0mdesc\u001b[0m\u001b[1;33m=\u001b[0m\u001b[1;34m\"세부 카테고리\"\u001b[0m\u001b[1;33m)\u001b[0m\u001b[1;33m:\u001b[0m\u001b[1;33m\u001b[0m\u001b[1;33m\u001b[0m\u001b[0m\n\u001b[1;32m---> 35\u001b[1;33m         \u001b[0msource4\u001b[0m \u001b[1;33m=\u001b[0m \u001b[0mrequests\u001b[0m\u001b[1;33m.\u001b[0m\u001b[0mget\u001b[0m\u001b[1;33m(\u001b[0m\u001b[0mg\u001b[0m\u001b[1;33m,\u001b[0m\u001b[0mverify\u001b[0m\u001b[1;33m=\u001b[0m\u001b[1;32mFalse\u001b[0m\u001b[1;33m)\u001b[0m\u001b[1;33m.\u001b[0m\u001b[0mtext\u001b[0m\u001b[1;33m\u001b[0m\u001b[1;33m\u001b[0m\u001b[0m\n\u001b[0m\u001b[0;32m     36\u001b[0m         \u001b[0msoup7\u001b[0m   \u001b[1;33m=\u001b[0m \u001b[0mBeautifulSoup\u001b[0m\u001b[1;33m(\u001b[0m\u001b[0msource4\u001b[0m\u001b[1;33m,\u001b[0m \u001b[1;34m\"html.parser\"\u001b[0m\u001b[1;33m)\u001b[0m\u001b[1;33m\u001b[0m\u001b[1;33m\u001b[0m\u001b[0m\n\u001b[0;32m     37\u001b[0m         \u001b[0msoup8\u001b[0m   \u001b[1;33m=\u001b[0m \u001b[0msoup7\u001b[0m\u001b[1;33m.\u001b[0m\u001b[0mselect\u001b[0m\u001b[1;33m(\u001b[0m\u001b[1;34m\".srchBreadCrumb > li\"\u001b[0m\u001b[1;33m)\u001b[0m\u001b[1;33m\u001b[0m\u001b[1;33m\u001b[0m\u001b[0m\n",
      "\u001b[1;32mC:\\Anaconda3\\lib\\site-packages\\requests\\api.py\u001b[0m in \u001b[0;36mget\u001b[1;34m(url, params, **kwargs)\u001b[0m\n\u001b[0;32m     73\u001b[0m \u001b[1;33m\u001b[0m\u001b[0m\n\u001b[0;32m     74\u001b[0m     \u001b[0mkwargs\u001b[0m\u001b[1;33m.\u001b[0m\u001b[0msetdefault\u001b[0m\u001b[1;33m(\u001b[0m\u001b[1;34m'allow_redirects'\u001b[0m\u001b[1;33m,\u001b[0m \u001b[1;32mTrue\u001b[0m\u001b[1;33m)\u001b[0m\u001b[1;33m\u001b[0m\u001b[1;33m\u001b[0m\u001b[0m\n\u001b[1;32m---> 75\u001b[1;33m     \u001b[1;32mreturn\u001b[0m \u001b[0mrequest\u001b[0m\u001b[1;33m(\u001b[0m\u001b[1;34m'get'\u001b[0m\u001b[1;33m,\u001b[0m \u001b[0murl\u001b[0m\u001b[1;33m,\u001b[0m \u001b[0mparams\u001b[0m\u001b[1;33m=\u001b[0m\u001b[0mparams\u001b[0m\u001b[1;33m,\u001b[0m \u001b[1;33m**\u001b[0m\u001b[0mkwargs\u001b[0m\u001b[1;33m)\u001b[0m\u001b[1;33m\u001b[0m\u001b[1;33m\u001b[0m\u001b[0m\n\u001b[0m\u001b[0;32m     76\u001b[0m \u001b[1;33m\u001b[0m\u001b[0m\n\u001b[0;32m     77\u001b[0m \u001b[1;33m\u001b[0m\u001b[0m\n",
      "\u001b[1;32mC:\\Anaconda3\\lib\\site-packages\\requests\\api.py\u001b[0m in \u001b[0;36mrequest\u001b[1;34m(method, url, **kwargs)\u001b[0m\n\u001b[0;32m     58\u001b[0m     \u001b[1;31m# cases, and look like a memory leak in others.\u001b[0m\u001b[1;33m\u001b[0m\u001b[1;33m\u001b[0m\u001b[1;33m\u001b[0m\u001b[0m\n\u001b[0;32m     59\u001b[0m     \u001b[1;32mwith\u001b[0m \u001b[0msessions\u001b[0m\u001b[1;33m.\u001b[0m\u001b[0mSession\u001b[0m\u001b[1;33m(\u001b[0m\u001b[1;33m)\u001b[0m \u001b[1;32mas\u001b[0m \u001b[0msession\u001b[0m\u001b[1;33m:\u001b[0m\u001b[1;33m\u001b[0m\u001b[1;33m\u001b[0m\u001b[0m\n\u001b[1;32m---> 60\u001b[1;33m         \u001b[1;32mreturn\u001b[0m \u001b[0msession\u001b[0m\u001b[1;33m.\u001b[0m\u001b[0mrequest\u001b[0m\u001b[1;33m(\u001b[0m\u001b[0mmethod\u001b[0m\u001b[1;33m=\u001b[0m\u001b[0mmethod\u001b[0m\u001b[1;33m,\u001b[0m \u001b[0murl\u001b[0m\u001b[1;33m=\u001b[0m\u001b[0murl\u001b[0m\u001b[1;33m,\u001b[0m \u001b[1;33m**\u001b[0m\u001b[0mkwargs\u001b[0m\u001b[1;33m)\u001b[0m\u001b[1;33m\u001b[0m\u001b[1;33m\u001b[0m\u001b[0m\n\u001b[0m\u001b[0;32m     61\u001b[0m \u001b[1;33m\u001b[0m\u001b[0m\n\u001b[0;32m     62\u001b[0m \u001b[1;33m\u001b[0m\u001b[0m\n",
      "\u001b[1;32mC:\\Anaconda3\\lib\\site-packages\\requests\\sessions.py\u001b[0m in \u001b[0;36mrequest\u001b[1;34m(self, method, url, params, data, headers, cookies, files, auth, timeout, allow_redirects, proxies, hooks, stream, verify, cert, json)\u001b[0m\n\u001b[0;32m    531\u001b[0m         }\n\u001b[0;32m    532\u001b[0m         \u001b[0msend_kwargs\u001b[0m\u001b[1;33m.\u001b[0m\u001b[0mupdate\u001b[0m\u001b[1;33m(\u001b[0m\u001b[0msettings\u001b[0m\u001b[1;33m)\u001b[0m\u001b[1;33m\u001b[0m\u001b[1;33m\u001b[0m\u001b[0m\n\u001b[1;32m--> 533\u001b[1;33m         \u001b[0mresp\u001b[0m \u001b[1;33m=\u001b[0m \u001b[0mself\u001b[0m\u001b[1;33m.\u001b[0m\u001b[0msend\u001b[0m\u001b[1;33m(\u001b[0m\u001b[0mprep\u001b[0m\u001b[1;33m,\u001b[0m \u001b[1;33m**\u001b[0m\u001b[0msend_kwargs\u001b[0m\u001b[1;33m)\u001b[0m\u001b[1;33m\u001b[0m\u001b[1;33m\u001b[0m\u001b[0m\n\u001b[0m\u001b[0;32m    534\u001b[0m \u001b[1;33m\u001b[0m\u001b[0m\n\u001b[0;32m    535\u001b[0m         \u001b[1;32mreturn\u001b[0m \u001b[0mresp\u001b[0m\u001b[1;33m\u001b[0m\u001b[1;33m\u001b[0m\u001b[0m\n",
      "\u001b[1;32mC:\\Anaconda3\\lib\\site-packages\\requests\\sessions.py\u001b[0m in \u001b[0;36msend\u001b[1;34m(self, request, **kwargs)\u001b[0m\n\u001b[0;32m    644\u001b[0m \u001b[1;33m\u001b[0m\u001b[0m\n\u001b[0;32m    645\u001b[0m         \u001b[1;31m# Send the request\u001b[0m\u001b[1;33m\u001b[0m\u001b[1;33m\u001b[0m\u001b[1;33m\u001b[0m\u001b[0m\n\u001b[1;32m--> 646\u001b[1;33m         \u001b[0mr\u001b[0m \u001b[1;33m=\u001b[0m \u001b[0madapter\u001b[0m\u001b[1;33m.\u001b[0m\u001b[0msend\u001b[0m\u001b[1;33m(\u001b[0m\u001b[0mrequest\u001b[0m\u001b[1;33m,\u001b[0m \u001b[1;33m**\u001b[0m\u001b[0mkwargs\u001b[0m\u001b[1;33m)\u001b[0m\u001b[1;33m\u001b[0m\u001b[1;33m\u001b[0m\u001b[0m\n\u001b[0m\u001b[0;32m    647\u001b[0m \u001b[1;33m\u001b[0m\u001b[0m\n\u001b[0;32m    648\u001b[0m         \u001b[1;31m# Total elapsed time of the request (approximately)\u001b[0m\u001b[1;33m\u001b[0m\u001b[1;33m\u001b[0m\u001b[1;33m\u001b[0m\u001b[0m\n",
      "\u001b[1;32mC:\\Anaconda3\\lib\\site-packages\\requests\\adapters.py\u001b[0m in \u001b[0;36msend\u001b[1;34m(self, request, stream, timeout, verify, cert, proxies)\u001b[0m\n\u001b[0;32m    447\u001b[0m                     \u001b[0mdecode_content\u001b[0m\u001b[1;33m=\u001b[0m\u001b[1;32mFalse\u001b[0m\u001b[1;33m,\u001b[0m\u001b[1;33m\u001b[0m\u001b[1;33m\u001b[0m\u001b[0m\n\u001b[0;32m    448\u001b[0m                     \u001b[0mretries\u001b[0m\u001b[1;33m=\u001b[0m\u001b[0mself\u001b[0m\u001b[1;33m.\u001b[0m\u001b[0mmax_retries\u001b[0m\u001b[1;33m,\u001b[0m\u001b[1;33m\u001b[0m\u001b[1;33m\u001b[0m\u001b[0m\n\u001b[1;32m--> 449\u001b[1;33m                     \u001b[0mtimeout\u001b[0m\u001b[1;33m=\u001b[0m\u001b[0mtimeout\u001b[0m\u001b[1;33m\u001b[0m\u001b[1;33m\u001b[0m\u001b[0m\n\u001b[0m\u001b[0;32m    450\u001b[0m                 )\n\u001b[0;32m    451\u001b[0m \u001b[1;33m\u001b[0m\u001b[0m\n",
      "\u001b[1;32mC:\\Anaconda3\\lib\\site-packages\\urllib3\\connectionpool.py\u001b[0m in \u001b[0;36murlopen\u001b[1;34m(self, method, url, body, headers, retries, redirect, assert_same_host, timeout, pool_timeout, release_conn, chunked, body_pos, **response_kw)\u001b[0m\n\u001b[0;32m    598\u001b[0m                                                   \u001b[0mtimeout\u001b[0m\u001b[1;33m=\u001b[0m\u001b[0mtimeout_obj\u001b[0m\u001b[1;33m,\u001b[0m\u001b[1;33m\u001b[0m\u001b[1;33m\u001b[0m\u001b[0m\n\u001b[0;32m    599\u001b[0m                                                   \u001b[0mbody\u001b[0m\u001b[1;33m=\u001b[0m\u001b[0mbody\u001b[0m\u001b[1;33m,\u001b[0m \u001b[0mheaders\u001b[0m\u001b[1;33m=\u001b[0m\u001b[0mheaders\u001b[0m\u001b[1;33m,\u001b[0m\u001b[1;33m\u001b[0m\u001b[1;33m\u001b[0m\u001b[0m\n\u001b[1;32m--> 600\u001b[1;33m                                                   chunked=chunked)\n\u001b[0m\u001b[0;32m    601\u001b[0m \u001b[1;33m\u001b[0m\u001b[0m\n\u001b[0;32m    602\u001b[0m             \u001b[1;31m# If we're going to release the connection in ``finally:``, then\u001b[0m\u001b[1;33m\u001b[0m\u001b[1;33m\u001b[0m\u001b[1;33m\u001b[0m\u001b[0m\n",
      "\u001b[1;32mC:\\Anaconda3\\lib\\site-packages\\urllib3\\connectionpool.py\u001b[0m in \u001b[0;36m_make_request\u001b[1;34m(self, conn, method, url, timeout, chunked, **httplib_request_kw)\u001b[0m\n\u001b[0;32m    378\u001b[0m             \u001b[1;32mexcept\u001b[0m \u001b[0mTypeError\u001b[0m\u001b[1;33m:\u001b[0m  \u001b[1;31m# Python 3\u001b[0m\u001b[1;33m\u001b[0m\u001b[1;33m\u001b[0m\u001b[0m\n\u001b[0;32m    379\u001b[0m                 \u001b[1;32mtry\u001b[0m\u001b[1;33m:\u001b[0m\u001b[1;33m\u001b[0m\u001b[1;33m\u001b[0m\u001b[0m\n\u001b[1;32m--> 380\u001b[1;33m                     \u001b[0mhttplib_response\u001b[0m \u001b[1;33m=\u001b[0m \u001b[0mconn\u001b[0m\u001b[1;33m.\u001b[0m\u001b[0mgetresponse\u001b[0m\u001b[1;33m(\u001b[0m\u001b[1;33m)\u001b[0m\u001b[1;33m\u001b[0m\u001b[1;33m\u001b[0m\u001b[0m\n\u001b[0m\u001b[0;32m    381\u001b[0m                 \u001b[1;32mexcept\u001b[0m \u001b[0mException\u001b[0m \u001b[1;32mas\u001b[0m \u001b[0me\u001b[0m\u001b[1;33m:\u001b[0m\u001b[1;33m\u001b[0m\u001b[1;33m\u001b[0m\u001b[0m\n\u001b[0;32m    382\u001b[0m                     \u001b[1;31m# Remove the TypeError from the exception chain in Python 3;\u001b[0m\u001b[1;33m\u001b[0m\u001b[1;33m\u001b[0m\u001b[1;33m\u001b[0m\u001b[0m\n",
      "\u001b[1;32mC:\\Anaconda3\\lib\\http\\client.py\u001b[0m in \u001b[0;36mgetresponse\u001b[1;34m(self)\u001b[0m\n\u001b[0;32m   1334\u001b[0m         \u001b[1;32mtry\u001b[0m\u001b[1;33m:\u001b[0m\u001b[1;33m\u001b[0m\u001b[1;33m\u001b[0m\u001b[0m\n\u001b[0;32m   1335\u001b[0m             \u001b[1;32mtry\u001b[0m\u001b[1;33m:\u001b[0m\u001b[1;33m\u001b[0m\u001b[1;33m\u001b[0m\u001b[0m\n\u001b[1;32m-> 1336\u001b[1;33m                 \u001b[0mresponse\u001b[0m\u001b[1;33m.\u001b[0m\u001b[0mbegin\u001b[0m\u001b[1;33m(\u001b[0m\u001b[1;33m)\u001b[0m\u001b[1;33m\u001b[0m\u001b[1;33m\u001b[0m\u001b[0m\n\u001b[0m\u001b[0;32m   1337\u001b[0m             \u001b[1;32mexcept\u001b[0m \u001b[0mConnectionError\u001b[0m\u001b[1;33m:\u001b[0m\u001b[1;33m\u001b[0m\u001b[1;33m\u001b[0m\u001b[0m\n\u001b[0;32m   1338\u001b[0m                 \u001b[0mself\u001b[0m\u001b[1;33m.\u001b[0m\u001b[0mclose\u001b[0m\u001b[1;33m(\u001b[0m\u001b[1;33m)\u001b[0m\u001b[1;33m\u001b[0m\u001b[1;33m\u001b[0m\u001b[0m\n",
      "\u001b[1;32mC:\\Anaconda3\\lib\\http\\client.py\u001b[0m in \u001b[0;36mbegin\u001b[1;34m(self)\u001b[0m\n\u001b[0;32m    304\u001b[0m         \u001b[1;31m# read until we get a non-100 response\u001b[0m\u001b[1;33m\u001b[0m\u001b[1;33m\u001b[0m\u001b[1;33m\u001b[0m\u001b[0m\n\u001b[0;32m    305\u001b[0m         \u001b[1;32mwhile\u001b[0m \u001b[1;32mTrue\u001b[0m\u001b[1;33m:\u001b[0m\u001b[1;33m\u001b[0m\u001b[1;33m\u001b[0m\u001b[0m\n\u001b[1;32m--> 306\u001b[1;33m             \u001b[0mversion\u001b[0m\u001b[1;33m,\u001b[0m \u001b[0mstatus\u001b[0m\u001b[1;33m,\u001b[0m \u001b[0mreason\u001b[0m \u001b[1;33m=\u001b[0m \u001b[0mself\u001b[0m\u001b[1;33m.\u001b[0m\u001b[0m_read_status\u001b[0m\u001b[1;33m(\u001b[0m\u001b[1;33m)\u001b[0m\u001b[1;33m\u001b[0m\u001b[1;33m\u001b[0m\u001b[0m\n\u001b[0m\u001b[0;32m    307\u001b[0m             \u001b[1;32mif\u001b[0m \u001b[0mstatus\u001b[0m \u001b[1;33m!=\u001b[0m \u001b[0mCONTINUE\u001b[0m\u001b[1;33m:\u001b[0m\u001b[1;33m\u001b[0m\u001b[1;33m\u001b[0m\u001b[0m\n\u001b[0;32m    308\u001b[0m                 \u001b[1;32mbreak\u001b[0m\u001b[1;33m\u001b[0m\u001b[1;33m\u001b[0m\u001b[0m\n",
      "\u001b[1;32mC:\\Anaconda3\\lib\\http\\client.py\u001b[0m in \u001b[0;36m_read_status\u001b[1;34m(self)\u001b[0m\n\u001b[0;32m    265\u001b[0m \u001b[1;33m\u001b[0m\u001b[0m\n\u001b[0;32m    266\u001b[0m     \u001b[1;32mdef\u001b[0m \u001b[0m_read_status\u001b[0m\u001b[1;33m(\u001b[0m\u001b[0mself\u001b[0m\u001b[1;33m)\u001b[0m\u001b[1;33m:\u001b[0m\u001b[1;33m\u001b[0m\u001b[1;33m\u001b[0m\u001b[0m\n\u001b[1;32m--> 267\u001b[1;33m         \u001b[0mline\u001b[0m \u001b[1;33m=\u001b[0m \u001b[0mstr\u001b[0m\u001b[1;33m(\u001b[0m\u001b[0mself\u001b[0m\u001b[1;33m.\u001b[0m\u001b[0mfp\u001b[0m\u001b[1;33m.\u001b[0m\u001b[0mreadline\u001b[0m\u001b[1;33m(\u001b[0m\u001b[0m_MAXLINE\u001b[0m \u001b[1;33m+\u001b[0m \u001b[1;36m1\u001b[0m\u001b[1;33m)\u001b[0m\u001b[1;33m,\u001b[0m \u001b[1;34m\"iso-8859-1\"\u001b[0m\u001b[1;33m)\u001b[0m\u001b[1;33m\u001b[0m\u001b[1;33m\u001b[0m\u001b[0m\n\u001b[0m\u001b[0;32m    268\u001b[0m         \u001b[1;32mif\u001b[0m \u001b[0mlen\u001b[0m\u001b[1;33m(\u001b[0m\u001b[0mline\u001b[0m\u001b[1;33m)\u001b[0m \u001b[1;33m>\u001b[0m \u001b[0m_MAXLINE\u001b[0m\u001b[1;33m:\u001b[0m\u001b[1;33m\u001b[0m\u001b[1;33m\u001b[0m\u001b[0m\n\u001b[0;32m    269\u001b[0m             \u001b[1;32mraise\u001b[0m \u001b[0mLineTooLong\u001b[0m\u001b[1;33m(\u001b[0m\u001b[1;34m\"status line\"\u001b[0m\u001b[1;33m)\u001b[0m\u001b[1;33m\u001b[0m\u001b[1;33m\u001b[0m\u001b[0m\n",
      "\u001b[1;32mC:\\Anaconda3\\lib\\socket.py\u001b[0m in \u001b[0;36mreadinto\u001b[1;34m(self, b)\u001b[0m\n\u001b[0;32m    587\u001b[0m         \u001b[1;32mwhile\u001b[0m \u001b[1;32mTrue\u001b[0m\u001b[1;33m:\u001b[0m\u001b[1;33m\u001b[0m\u001b[1;33m\u001b[0m\u001b[0m\n\u001b[0;32m    588\u001b[0m             \u001b[1;32mtry\u001b[0m\u001b[1;33m:\u001b[0m\u001b[1;33m\u001b[0m\u001b[1;33m\u001b[0m\u001b[0m\n\u001b[1;32m--> 589\u001b[1;33m                 \u001b[1;32mreturn\u001b[0m \u001b[0mself\u001b[0m\u001b[1;33m.\u001b[0m\u001b[0m_sock\u001b[0m\u001b[1;33m.\u001b[0m\u001b[0mrecv_into\u001b[0m\u001b[1;33m(\u001b[0m\u001b[0mb\u001b[0m\u001b[1;33m)\u001b[0m\u001b[1;33m\u001b[0m\u001b[1;33m\u001b[0m\u001b[0m\n\u001b[0m\u001b[0;32m    590\u001b[0m             \u001b[1;32mexcept\u001b[0m \u001b[0mtimeout\u001b[0m\u001b[1;33m:\u001b[0m\u001b[1;33m\u001b[0m\u001b[1;33m\u001b[0m\u001b[0m\n\u001b[0;32m    591\u001b[0m                 \u001b[0mself\u001b[0m\u001b[1;33m.\u001b[0m\u001b[0m_timeout_occurred\u001b[0m \u001b[1;33m=\u001b[0m \u001b[1;32mTrue\u001b[0m\u001b[1;33m\u001b[0m\u001b[1;33m\u001b[0m\u001b[0m\n",
      "\u001b[1;32mC:\\Anaconda3\\lib\\site-packages\\urllib3\\contrib\\pyopenssl.py\u001b[0m in \u001b[0;36mrecv_into\u001b[1;34m(self, *args, **kwargs)\u001b[0m\n\u001b[0;32m    295\u001b[0m     \u001b[1;32mdef\u001b[0m \u001b[0mrecv_into\u001b[0m\u001b[1;33m(\u001b[0m\u001b[0mself\u001b[0m\u001b[1;33m,\u001b[0m \u001b[1;33m*\u001b[0m\u001b[0margs\u001b[0m\u001b[1;33m,\u001b[0m \u001b[1;33m**\u001b[0m\u001b[0mkwargs\u001b[0m\u001b[1;33m)\u001b[0m\u001b[1;33m:\u001b[0m\u001b[1;33m\u001b[0m\u001b[1;33m\u001b[0m\u001b[0m\n\u001b[0;32m    296\u001b[0m         \u001b[1;32mtry\u001b[0m\u001b[1;33m:\u001b[0m\u001b[1;33m\u001b[0m\u001b[1;33m\u001b[0m\u001b[0m\n\u001b[1;32m--> 297\u001b[1;33m             \u001b[1;32mreturn\u001b[0m \u001b[0mself\u001b[0m\u001b[1;33m.\u001b[0m\u001b[0mconnection\u001b[0m\u001b[1;33m.\u001b[0m\u001b[0mrecv_into\u001b[0m\u001b[1;33m(\u001b[0m\u001b[1;33m*\u001b[0m\u001b[0margs\u001b[0m\u001b[1;33m,\u001b[0m \u001b[1;33m**\u001b[0m\u001b[0mkwargs\u001b[0m\u001b[1;33m)\u001b[0m\u001b[1;33m\u001b[0m\u001b[1;33m\u001b[0m\u001b[0m\n\u001b[0m\u001b[0;32m    298\u001b[0m         \u001b[1;32mexcept\u001b[0m \u001b[0mOpenSSL\u001b[0m\u001b[1;33m.\u001b[0m\u001b[0mSSL\u001b[0m\u001b[1;33m.\u001b[0m\u001b[0mSysCallError\u001b[0m \u001b[1;32mas\u001b[0m \u001b[0me\u001b[0m\u001b[1;33m:\u001b[0m\u001b[1;33m\u001b[0m\u001b[1;33m\u001b[0m\u001b[0m\n\u001b[0;32m    299\u001b[0m             \u001b[1;32mif\u001b[0m \u001b[0mself\u001b[0m\u001b[1;33m.\u001b[0m\u001b[0msuppress_ragged_eofs\u001b[0m \u001b[1;32mand\u001b[0m \u001b[0me\u001b[0m\u001b[1;33m.\u001b[0m\u001b[0margs\u001b[0m \u001b[1;33m==\u001b[0m \u001b[1;33m(\u001b[0m\u001b[1;33m-\u001b[0m\u001b[1;36m1\u001b[0m\u001b[1;33m,\u001b[0m \u001b[1;34m'Unexpected EOF'\u001b[0m\u001b[1;33m)\u001b[0m\u001b[1;33m:\u001b[0m\u001b[1;33m\u001b[0m\u001b[1;33m\u001b[0m\u001b[0m\n",
      "\u001b[1;32mC:\\Anaconda3\\lib\\site-packages\\OpenSSL\\SSL.py\u001b[0m in \u001b[0;36mrecv_into\u001b[1;34m(self, buffer, nbytes, flags)\u001b[0m\n\u001b[0;32m   1819\u001b[0m             \u001b[0mresult\u001b[0m \u001b[1;33m=\u001b[0m \u001b[0m_lib\u001b[0m\u001b[1;33m.\u001b[0m\u001b[0mSSL_peek\u001b[0m\u001b[1;33m(\u001b[0m\u001b[0mself\u001b[0m\u001b[1;33m.\u001b[0m\u001b[0m_ssl\u001b[0m\u001b[1;33m,\u001b[0m \u001b[0mbuf\u001b[0m\u001b[1;33m,\u001b[0m \u001b[0mnbytes\u001b[0m\u001b[1;33m)\u001b[0m\u001b[1;33m\u001b[0m\u001b[1;33m\u001b[0m\u001b[0m\n\u001b[0;32m   1820\u001b[0m         \u001b[1;32melse\u001b[0m\u001b[1;33m:\u001b[0m\u001b[1;33m\u001b[0m\u001b[1;33m\u001b[0m\u001b[0m\n\u001b[1;32m-> 1821\u001b[1;33m             \u001b[0mresult\u001b[0m \u001b[1;33m=\u001b[0m \u001b[0m_lib\u001b[0m\u001b[1;33m.\u001b[0m\u001b[0mSSL_read\u001b[0m\u001b[1;33m(\u001b[0m\u001b[0mself\u001b[0m\u001b[1;33m.\u001b[0m\u001b[0m_ssl\u001b[0m\u001b[1;33m,\u001b[0m \u001b[0mbuf\u001b[0m\u001b[1;33m,\u001b[0m \u001b[0mnbytes\u001b[0m\u001b[1;33m)\u001b[0m\u001b[1;33m\u001b[0m\u001b[1;33m\u001b[0m\u001b[0m\n\u001b[0m\u001b[0;32m   1822\u001b[0m         \u001b[0mself\u001b[0m\u001b[1;33m.\u001b[0m\u001b[0m_raise_ssl_error\u001b[0m\u001b[1;33m(\u001b[0m\u001b[0mself\u001b[0m\u001b[1;33m.\u001b[0m\u001b[0m_ssl\u001b[0m\u001b[1;33m,\u001b[0m \u001b[0mresult\u001b[0m\u001b[1;33m)\u001b[0m\u001b[1;33m\u001b[0m\u001b[1;33m\u001b[0m\u001b[0m\n\u001b[0;32m   1823\u001b[0m \u001b[1;33m\u001b[0m\u001b[0m\n",
      "\u001b[1;31mKeyboardInterrupt\u001b[0m: "
     ]
    }
   ],
   "source": [
    "URL = []      # URL \n",
    "category = [] # 카테고리 글\n",
    "\n",
    "for a in tqdm_notebook(range(100000,100001),desc='대 카테고리'):\n",
    "    url2 = []     # 중 카테고리   여성의류\n",
    "    url3 = []     # 소 카테고리   상의\n",
    "    url4 = []     # 세부 카테고리 티셔츠\n",
    "    url    = \"https://www.lotteon.com/search/render/render.ecn?render=nqapi&platform=pc&collection_id=9&u9=navigate&u8=EC10\" + str(a) + \"&login=Y&mallId=1\"\n",
    "    source = requests.get(url,verify=False).text\n",
    "    soup  = BeautifulSoup(source, \"html.parser\")\n",
    "    soup2 = soup.select('.srchFilterOptions > li > a')\n",
    "    for b in soup2:\n",
    "        url2.append(b['href'])\n",
    "        \n",
    "    for c in tqdm_notebook(url2,desc='중 카테고리'):\n",
    "        source2 = requests.get(c,verify=False).text\n",
    "        soup3   = BeautifulSoup(source2, \"html.parser\")\n",
    "        soup4   = soup3.select('.srchFilterOptions > li > a')\n",
    "        for d in soup4:\n",
    "            url3.append(d['href'])\n",
    "    \n",
    "    for e in tqdm_notebook(url3,desc='소 카테고리'):\n",
    "        source3 = requests.get(e,verify=False).text\n",
    "        soup5   = BeautifulSoup(source3, \"html.parser\")\n",
    "        soup6   = soup5.select('.srchFilterOptions > li > a')\n",
    "        URL = []\n",
    "        URL.append(e)\n",
    "        for f in soup6:\n",
    "            URL.append(f['href'])\n",
    "        url4.append(URL)   \n",
    "\n",
    "    url5 = sum(url4,[])    \n",
    "    url5 = pd.unique(url5).tolist() \n",
    "    for g in tqdm_notebook(url5,desc=\"세부 카테고리\"):\n",
    "        source4 = requests.get(g,verify=False).text\n",
    "        soup7   = BeautifulSoup(source4, \"html.parser\")\n",
    "        soup8   = soup7.select(\".srchBreadCrumb > li\")\n",
    "        line = [] # 안쪽 리스트로 사용할 빈 리스트 생성\n",
    "        for h in range(1,len(soup8)): # 안쪽 리스트 데이터\n",
    "            line.append(soup8[h].text.strip()) # 전체 리스트에 안쪽 리스트를 추가\n",
    "        category.append(line)\n",
    "        \n",
    "URL = pd.unique(url).tolist()\n",
    "# (코드 수정 전) 각 데이터 프레임 생성 후 열 추가방식 ============================\n",
    "#df        = DataFrame(category,columns=['대','중','소','세부'])\n",
    "#df['url'] = DataFrame(url5,columns=['url'])\n",
    "#df        = df[['url','대','중','소','세부']]\n",
    "\n",
    "# (코드 수정 후) 기준 데이터 프레임 생성 후 원하는 위치에 리스트 열 추가 ============\n",
    "df = DataFrame(category,columns=['대','중','소','세부'])"
   ]
  },
  {
   "cell_type": "code",
   "execution_count": 5,
   "metadata": {},
   "outputs": [
    {
     "data": {
      "text/plain": [
       "[['패션', '여성의류', '원피스'],\n",
       " ['패션', '여성의류'],\n",
       " ['패션', '여성의류', '상의'],\n",
       " ['패션', '여성의류', '하의'],\n",
       " ['패션', '여성의류', '정장'],\n",
       " ['패션', '여성의류', '여성아우터'],\n",
       " ['패션', '여성의류', '시즌/테마'],\n",
       " ['패션', '여성의류', '트레이닝복'],\n",
       " ['패션', '여성의류', '한복'],\n",
       " ['패션', '여성의류', '점프슈트'],\n",
       " ['패션', '여성의류', '코디세트'],\n",
       " ['패션', '여성의류', '레인코트'],\n",
       " ['패션', '여성의류', '상의', '티셔츠'],\n",
       " ['패션', '여성의류', '상의', '니트웨어'],\n",
       " ['패션', '여성의류', '상의', '가디건'],\n",
       " ['패션', '여성의류', '상의', '블라우스'],\n",
       " ['패션', '여성의류', '상의', '셔츠'],\n",
       " ['패션', '여성의류', '상의', '베스트'],\n",
       " ['패션', '여성의류', '상의', '맨투맨'],\n",
       " ['패션', '여성의류', '상의', '후드티'],\n",
       " ['패션', '여성의류', '상의', '집업'],\n",
       " ['패션', '여성의류', '상의', '민소매/탑'],\n",
       " ['패션', '여성의류', '상의', '뷔스티에'],\n",
       " ['패션', '여성의류', '상의', '볼레로'],\n",
       " ['패션', '여성의류', '상의', '숄/망토'],\n",
       " ['패션', '여성의류', '상의', '긴팔티셔츠'],\n",
       " ['패션', '여성의류', '하의', '바지'],\n",
       " ['패션', '여성의류', '하의', '데님'],\n",
       " ['패션', '여성의류', '하의', '반바지'],\n",
       " ['패션', '여성의류', '하의', '슬랙스'],\n",
       " ['패션', '여성의류', '하의', '스커트'],\n",
       " ['패션', '여성의류', '하의', '미니스커트'],\n",
       " ['패션', '여성의류', '하의', '레깅스'],\n",
       " ['패션', '여성의류', '정장', '셔츠'],\n",
       " ['패션', '여성의류', '정장', '상의'],\n",
       " ['패션', '여성의류', '정장', '하의'],\n",
       " ['패션', '여성의류', '정장', '정장스커트'],\n",
       " ['패션', '여성의류', '정장', '세트'],\n",
       " ['패션', '여성의류', '여성아우터', '재킷'],\n",
       " ['패션', '여성의류', '여성아우터', '레더/퍼'],\n",
       " ['패션', '여성의류', '여성아우터', '트렌치코트'],\n",
       " ['패션', '여성의류', '여성아우터', '코트'],\n",
       " ['패션', '여성의류', '여성아우터', '점퍼/야상/패딩'],\n",
       " ['패션', '여성의류', '여성아우터', '패딩'],\n",
       " ['패션', '여성의류', '시즌/테마', '수영복/비치웨어'],\n",
       " ['패션', '여성의류', '시즌/테마', '테마의류'],\n",
       " ['패션', '여성의류', '시즌/테마', '교복'],\n",
       " ['패션', '여성의류', '시즌/테마', '한복'],\n",
       " ['패션', '남성의류', '상의'],\n",
       " ['패션', '남성의류', '상의', '티셔츠'],\n",
       " ['패션', '남성의류', '상의', '반팔티셔츠'],\n",
       " ['패션', '남성의류', '상의', '맨투맨'],\n",
       " ['패션', '남성의류', '상의', '후드티'],\n",
       " ['패션', '남성의류', '상의', '셔츠/남방'],\n",
       " ['패션', '남성의류', '상의', '집업'],\n",
       " ['패션', '남성의류', '상의', '니트/스웨터'],\n",
       " ['패션', '남성의류', '상의', '가디건'],\n",
       " ['패션', '남성의류', '상의', '조끼/베스트'],\n",
       " ['패션', '남성의류', '상의', '민소매/나시'],\n",
       " ['패션', '남성의류', '상의', '린넨셔츠'],\n",
       " ['패션', '남성의류', '하의'],\n",
       " ['패션', '남성의류', '하의', '청바지'],\n",
       " ['패션', '남성의류', '하의', '바지'],\n",
       " ['패션', '남성의류', '하의', '슬랙스'],\n",
       " ['패션', '남성의류', '하의', '반바지'],\n",
       " ['패션', '남성의류', '정장'],\n",
       " ['패션', '남성의류', '정장', '와이셔츠'],\n",
       " ['패션', '남성의류', '정장', '정장재킷/정장조끼'],\n",
       " ['패션', '남성의류', '정장', '정장바지'],\n",
       " ['패션', '남성의류', '정장', '정장세트'],\n",
       " ['패션', '남성의류', '남성아우터'],\n",
       " ['패션', '남성의류', '남성아우터', '재킷'],\n",
       " ['패션', '남성의류', '남성아우터', '라이더재킷'],\n",
       " ['패션', '남성의류', '남성아우터', '트렌치코트'],\n",
       " ['패션', '남성의류', '남성아우터', '코트'],\n",
       " ['패션', '남성의류', '남성아우터', '점퍼'],\n",
       " ['패션', '남성의류', '남성아우터', '패딩'],\n",
       " ['패션', '남성의류', '남성아우터', '경량패딩/베스트'],\n",
       " ['패션', '남성의류', '남성아우터', '사파리/야상'],\n",
       " ['패션', '남성의류', '남성아우터', '블루종/항공점퍼'],\n",
       " ['패션', '남성의류', '트레이닝복'],\n",
       " ['패션', '남성의류'],\n",
       " ['패션', '남성의류', '점프슈트'],\n",
       " ['패션', '남성의류', '코디세트'],\n",
       " ['패션', '남성의류', '남성패션잡화'],\n",
       " ['패션', '남성의류', '한복'],\n",
       " ['패션', '남성의류', '레인코트'],\n",
       " ['패션', '남성의류', '남성패션잡화', '넥타이/넥타이소품'],\n",
       " ['패션', '남성의류', '남성패션잡화', '캐주얼벨트'],\n",
       " ['패션', '남성의류', '남성패션잡화', '벨트'],\n",
       " ['패션', '남성의류', '남성패션잡화', '정장벨트'],\n",
       " ['패션', '남성의류', '남성패션잡화', '멜빵'],\n",
       " ['패션', '남성의류', '남성패션잡화', '행커치프'],\n",
       " ['패션', '남성의류', '남성패션잡화', '보타이'],\n",
       " ['패션', '유니섹스', '상의'],\n",
       " ['패션', '유니섹스', '상의', '티셔츠'],\n",
       " ['패션', '유니섹스', '상의', '맨투맨'],\n",
       " ['패션', '유니섹스', '상의', '후드'],\n",
       " ['패션', '유니섹스', '상의', '셔츠/남방'],\n",
       " ['패션', '유니섹스', '상의', '니트/스웨터'],\n",
       " ['패션', '유니섹스', '상의', '가디건'],\n",
       " ['패션', '유니섹스', '상의', '조끼/베스트'],\n",
       " ['패션', '유니섹스', '상의', '긴팔티셔츠'],\n",
       " ['패션', '유니섹스', '하의'],\n",
       " ['패션', '유니섹스', '하의', '청바지'],\n",
       " ['패션', '유니섹스', '하의', '바지'],\n",
       " ['패션', '유니섹스', '하의', '슬랙스'],\n",
       " ['패션', '유니섹스', '하의', '반바지'],\n",
       " ['패션', '유니섹스', '아우터'],\n",
       " ['패션', '유니섹스', '아우터', '재킷'],\n",
       " ['패션', '유니섹스', '아우터', '라이더재킷'],\n",
       " ['패션', '유니섹스', '아우터', '트렌치코트'],\n",
       " ['패션', '유니섹스', '아우터', '코트'],\n",
       " ['패션', '유니섹스', '아우터', '점퍼'],\n",
       " ['패션', '유니섹스', '아우터', '다운/패딩'],\n",
       " ['패션', '유니섹스', '아우터', '레인코트'],\n",
       " ['패션', '유니섹스', '트레이닝복'],\n",
       " ['패션', '유니섹스'],\n",
       " ['패션', '아동의류', '남아의류'],\n",
       " ['패션', '아동의류', '남아의류', '티셔츠'],\n",
       " ['패션', '아동의류', '남아의류', '셔츠/남방'],\n",
       " ['패션', '아동의류', '남아의류', '니트/스웨터'],\n",
       " ['패션', '아동의류', '남아의류', '가디건'],\n",
       " ['패션', '아동의류', '남아의류', '베스트'],\n",
       " ['패션', '아동의류', '남아의류', '바지'],\n",
       " ['패션', '아동의류', '남아의류', '청바지'],\n",
       " ['패션', '아동의류', '남아의류', '재킷'],\n",
       " ['패션', '아동의류', '남아의류', '코트'],\n",
       " ['패션', '아동의류', '남아의류', '점퍼'],\n",
       " ['패션', '아동의류', '남아의류', '패딩/경량패딩'],\n",
       " ['패션', '아동의류', '남아의류', '민소매'],\n",
       " ['패션', '아동의류', '남아의류', '레깅스'],\n",
       " ['패션', '아동의류', '남아의류', '점프슈트'],\n",
       " ['패션', '아동의류', '남아의류', '트레이닝복'],\n",
       " ['패션', '아동의류', '남아의류', '코디세트'],\n",
       " ['패션', '아동의류', '남아의류', '상하세트'],\n",
       " ['패션', '아동의류', '남아의류', '발레복/댄스복'],\n",
       " ['패션', '아동의류', '남아의류', '교복'],\n",
       " ['패션', '아동의류', '남아의류', '한복'],\n",
       " ['패션', '아동의류', '남아의류', '파티복'],\n",
       " ['패션', '아동의류', '남아의류', '레인코트'],\n",
       " ['패션', '아동의류', '여아의류'],\n",
       " ['패션', '아동의류', '여아의류', '티셔츠'],\n",
       " ['패션', '아동의류', '여아의류', '블라우스'],\n",
       " ['패션', '아동의류', '여아의류', '원피스'],\n",
       " ['패션', '아동의류', '여아의류', '스커트'],\n",
       " ['패션', '아동의류', '여아의류', '셔츠/남방'],\n",
       " ['패션', '아동의류', '여아의류', '니트/스웨터'],\n",
       " ['패션', '아동의류', '여아의류', '가디건'],\n",
       " ['패션', '아동의류', '여아의류', '베스트'],\n",
       " ['패션', '아동의류', '여아의류', '바지'],\n",
       " ['패션', '아동의류', '여아의류', '청바지'],\n",
       " ['패션', '아동의류', '여아의류', '재킷'],\n",
       " ['패션', '아동의류', '여아의류', '코트'],\n",
       " ['패션', '아동의류', '여아의류', '점퍼'],\n",
       " ['패션', '아동의류', '여아의류', '패딩/경량패딩'],\n",
       " ['패션', '아동의류', '여아의류', '민소매'],\n",
       " ['패션', '아동의류', '여아의류', '레깅스'],\n",
       " ['패션', '아동의류', '여아의류', '점프슈트'],\n",
       " ['패션', '아동의류', '여아의류', '트레이닝복'],\n",
       " ['패션', '아동의류', '여아의류', '코디세트'],\n",
       " ['패션', '아동의류', '여아의류', '상하세트'],\n",
       " ['패션', '아동의류', '여아의류', '캐릭터의류'],\n",
       " ['패션', '아동의류', '여아의류', '발레복/댄스복'],\n",
       " ['패션', '아동의류', '여아의류', '한복'],\n",
       " ['패션', '아동의류', '여아의류', '파티복/드레스'],\n",
       " ['패션', '아동의류', '여아의류', '레인코트'],\n",
       " ['패션', '세트의류', '커플룩'],\n",
       " ['패션', '세트의류'],\n",
       " ['패션', '세트의류', '패밀리룩'],\n",
       " ['패션', '세트의류', '유니폼/단체복'],\n",
       " ['패션', '여성속옷/잠옷', '브라'],\n",
       " ['패션', '여성속옷/잠옷'],\n",
       " ['패션', '여성속옷/잠옷', '팬티'],\n",
       " ['패션', '여성속옷/잠옷', '브라팬티세트'],\n",
       " ['패션', '여성속옷/잠옷', '브라탑'],\n",
       " ['패션', '여성속옷/잠옷', '여성속옷세트'],\n",
       " ['패션', '여성속옷/잠옷', '슬립'],\n",
       " ['패션', '여성속옷/잠옷', '속바지'],\n",
       " ['패션', '여성속옷/잠옷', '속치마'],\n",
       " ['패션', '여성속옷/잠옷', '러닝/캐미솔'],\n",
       " ['패션', '여성속옷/잠옷', '보정속옷'],\n",
       " ['패션', '여성속옷/잠옷', '속옷부속품'],\n",
       " ['패션', '여성속옷/잠옷', '내복'],\n",
       " ['패션', '여성속옷/잠옷', '모시메리'],\n",
       " ['패션', '여성속옷/잠옷', '발열내의'],\n",
       " ['패션', '여성속옷/잠옷', '잠옷/홈웨어'],\n",
       " ['패션', '여성속옷/잠옷', '가터벨트'],\n",
       " ['패션', '남성속옷/잠옷', '팬티'],\n",
       " ['패션', '남성속옷/잠옷'],\n",
       " ['패션', '남성속옷/잠옷', '러닝'],\n",
       " ['패션', '남성속옷/잠옷', '러닝팬티세트'],\n",
       " ['패션', '남성속옷/잠옷', '남성속옷세트'],\n",
       " ['패션', '남성속옷/잠옷', '보정속옷'],\n",
       " ['패션', '남성속옷/잠옷', '모시메리'],\n",
       " ['패션', '남성속옷/잠옷', '발열내의'],\n",
       " ['패션', '남성속옷/잠옷', '내복'],\n",
       " ['패션', '남성속옷/잠옷', '타이즈'],\n",
       " ['패션', '남성속옷/잠옷', '잠옷/홈웨어'],\n",
       " ['패션', '아동언더웨어/잠옷', '팬티'],\n",
       " ['패션', '아동언더웨어/잠옷'],\n",
       " ['패션', '아동언더웨어/잠옷', '러닝'],\n",
       " ['패션', '아동언더웨어/잠옷', '러닝팬티세트'],\n",
       " ['패션', '아동언더웨어/잠옷', '브라'],\n",
       " ['패션', '아동언더웨어/잠옷', '브라팬티세트'],\n",
       " ['패션', '아동언더웨어/잠옷', '속바지'],\n",
       " ['패션', '아동언더웨어/잠옷', '속치마'],\n",
       " ['패션', '아동언더웨어/잠옷', '내복'],\n",
       " ['패션', '아동언더웨어/잠옷', '타이즈'],\n",
       " ['패션', '아동언더웨어/잠옷', '잠옷/홈웨어'],\n",
       " ['패션', '세트속옷/잠옷', '커플속옷'],\n",
       " ['패션', '세트속옷/잠옷'],\n",
       " ['패션', '세트속옷/잠옷', '커플잠옷/홈웨어'],\n",
       " ['스포츠&레저', '남성스포츠슈즈', '운동화'],\n",
       " ['스포츠&레저', '남성스포츠슈즈', '운동화', '런닝화'],\n",
       " ['스포츠&레저', '남성스포츠슈즈', '운동화', '스니커즈'],\n",
       " ['스포츠&레저', '남성스포츠슈즈', '운동화', '워킹화'],\n",
       " ['스포츠&레저', '남성스포츠슈즈', '운동화', '컨버스화'],\n",
       " ['스포츠&레저', '남성스포츠슈즈', '운동화', '슬립온'],\n",
       " ['스포츠&레저', '남성스포츠슈즈', '운동화', '하이탑'],\n",
       " ['스포츠&레저', '남성스포츠슈즈', '등산화'],\n",
       " ['스포츠&레저', '남성스포츠슈즈'],\n",
       " ['스포츠&레저', '남성스포츠슈즈', '슬리퍼'],\n",
       " ['스포츠&레저', '남성스포츠슈즈', '샌들'],\n",
       " ['스포츠&레저', '남성스포츠슈즈', '아쿠아슈즈'],\n",
       " ['스포츠&레저', '남성스포츠슈즈', '축구화'],\n",
       " ['스포츠&레저', '남성스포츠슈즈', '농구화'],\n",
       " ['스포츠&레저', '남성스포츠슈즈', '골프화'],\n",
       " ['스포츠&레저', '남성스포츠슈즈', '테니스화'],\n",
       " ['스포츠&레저', '남성스포츠슈즈', '야구화'],\n",
       " ['스포츠&레저', '남성스포츠슈즈', '볼링화'],\n",
       " ['스포츠&레저', '남성스포츠슈즈', '마라톤화'],\n",
       " ['스포츠&레저', '남성스포츠슈즈', '자전거신발'],\n",
       " ['스포츠&레저', '남성스포츠슈즈', '보드화'],\n",
       " ['스포츠&레저', '남성스포츠슈즈', '배드민턴화'],\n",
       " ['스포츠&레저', '남성스포츠슈즈', '탁구화'],\n",
       " ['스포츠&레저', '남성스포츠슈즈', '배구화'],\n",
       " ['스포츠&레저', '남성스포츠슈즈', '태권도화'],\n",
       " ['스포츠&레저', '남성스포츠슈즈', '복싱화'],\n",
       " ['스포츠&레저', '남성스포츠슈즈', '부츠'],\n",
       " ['스포츠&레저', '남성스포츠슈즈', '부츠', '털부츠'],\n",
       " ['스포츠&레저', '남성스포츠슈즈', '부츠', '패딩부츠'],\n",
       " ['스포츠&레저', '남성스포츠의류', '스포츠'],\n",
       " ['스포츠&레저', '남성스포츠의류', '스포츠', '티셔츠'],\n",
       " ['스포츠&레저', '남성스포츠의류', '스포츠', '집업'],\n",
       " ['스포츠&레저', '남성스포츠의류', '스포츠', '재킷'],\n",
       " ['스포츠&레저', '남성스포츠의류', '스포츠', '반바지'],\n",
       " ['스포츠&레저', '남성스포츠의류', '스포츠', '긴바지'],\n",
       " ['스포츠&레저', '남성스포츠의류', '스포츠', '트레이닝복'],\n",
       " ['스포츠&레저', '남성스포츠의류', '스포츠', '패딩'],\n",
       " ['스포츠&레저', '남성스포츠의류', '스포츠', '조끼/베스트'],\n",
       " ['스포츠&레저', '남성스포츠의류', '스포츠', '가디건'],\n",
       " ['스포츠&레저', '남성스포츠의류', '스포츠', '니트/스웨터'],\n",
       " ['스포츠&레저', '남성스포츠의류', '골프의류'],\n",
       " ['스포츠&레저', '남성스포츠의류', '골프의류', '티셔츠'],\n",
       " ['스포츠&레저', '남성스포츠의류', '골프의류', '니트/스웨터'],\n",
       " ['스포츠&레저', '남성스포츠의류', '골프의류', '긴바지'],\n",
       " ['스포츠&레저', '남성스포츠의류', '골프의류', '바람막이/점퍼'],\n",
       " ['스포츠&레저', '남성스포츠의류', '골프의류', '가디건'],\n",
       " ['스포츠&레저', '남성스포츠의류', '골프의류', '반바지'],\n",
       " ['스포츠&레저', '남성스포츠의류', '골프의류', '재킷'],\n",
       " ['스포츠&레저', '남성스포츠의류', '골프의류', '다운/패딩'],\n",
       " ['스포츠&레저', '남성스포츠의류', '골프의류', '베스트'],\n",
       " ['스포츠&레저', '남성스포츠의류', '골프의류', '우의'],\n",
       " ['스포츠&레저', '남성스포츠의류', '아웃도어/등산'],\n",
       " ['스포츠&레저', '남성스포츠의류', '아웃도어/등산', '티셔츠'],\n",
       " ['스포츠&레저', '남성스포츠의류', '아웃도어/등산', '바람막이/재킷'],\n",
       " ['스포츠&레저', '남성스포츠의류', '아웃도어/등산', '다운/패딩'],\n",
       " ['스포츠&레저', '남성스포츠의류', '아웃도어/등산', '점퍼'],\n",
       " ['스포츠&레저', '남성스포츠의류', '아웃도어/등산', '긴바지'],\n",
       " ['스포츠&레저', '남성스포츠의류', '아웃도어/등산', '조끼'],\n",
       " ['스포츠&레저', '남성스포츠의류', '아웃도어/등산', '집업'],\n",
       " ['스포츠&레저', '남성스포츠의류', '아웃도어/등산', '우의'],\n",
       " ['스포츠&레저', '남성스포츠의류', '아웃도어/등산', '반바지'],\n",
       " ['스포츠&레저', '남성스포츠의류', '요가/필라테스복'],\n",
       " ['스포츠&레저', '남성스포츠의류', '요가/필라테스복', '레깅스'],\n",
       " ['스포츠&레저', '남성스포츠의류', '요가/필라테스복', '하의'],\n",
       " ['스포츠&레저', '남성스포츠의류', '요가/필라테스복', '상의'],\n",
       " ['스포츠&레저', '남성스포츠의류', '스키/보드복'],\n",
       " ['스포츠&레저', '남성스포츠의류', '스키/보드복', '재킷'],\n",
       " ['스포츠&레저', '남성스포츠의류', '스키/보드복', '바지'],\n",
       " ['스포츠&레저', '남성스포츠의류', '스키/보드복', '상하세트'],\n",
       " ['스포츠&레저', '남성스포츠의류', '수영복'],\n",
       " ['스포츠&레저', '남성스포츠의류', '수영복', '삼각수영복'],\n",
       " ['스포츠&레저', '남성스포츠의류', '수영복', '사각수영복'],\n",
       " ['스포츠&레저', '남성스포츠의류', '기능성의류'],\n",
       " ['스포츠&레저', '남성스포츠의류', '기능성의류', '기능성상의'],\n",
       " ['스포츠&레저', '남성스포츠의류', '기능성의류', '기능성하의'],\n",
       " ['스포츠&레저', '남성스포츠의류', '기능성의류', '쿨머플러/핫워머'],\n",
       " ['스포츠&레저', '남성스포츠의류', '기능성의류', 'UV차단/쿨토시'],\n",
       " ['스포츠&레저', '남성스포츠의류', '기능성의류', '냉감속옷'],\n",
       " ['스포츠&레저', '남성스포츠의류', '기능성의류', '기능성의류세트'],\n",
       " ['스포츠&레저', '남성스포츠의류', '래쉬가드'],\n",
       " ['스포츠&레저', '남성스포츠의류', '래쉬가드', '상의'],\n",
       " ['스포츠&레저', '남성스포츠의류', '래쉬가드', '하의'],\n",
       " ['스포츠&레저', '남성스포츠의류', '래쉬가드', '이너'],\n",
       " ['스포츠&레저', '남성스포츠의류', '래쉬가드', '세트'],\n",
       " ['스포츠&레저', '남성스포츠의류', '축구복'],\n",
       " ['스포츠&레저', '남성스포츠의류', '축구복', '상의'],\n",
       " ['스포츠&레저', '남성스포츠의류', '축구복', '하의'],\n",
       " ['스포츠&레저', '남성스포츠의류', '축구복', '상하의세트'],\n",
       " ['스포츠&레저', '남성스포츠의류', '야구복'],\n",
       " ['스포츠&레저', '남성스포츠의류', '야구복', '상의'],\n",
       " ['스포츠&레저', '남성스포츠의류', '야구복', '야구점퍼'],\n",
       " ['스포츠&레저', '남성스포츠의류', '야구복', '상하의세트'],\n",
       " ['스포츠&레저', '남성스포츠의류', '농구복'],\n",
       " ['스포츠&레저', '남성스포츠의류', '농구복', '상의'],\n",
       " ['스포츠&레저', '남성스포츠의류', '농구복', '상하의세트'],\n",
       " ['스포츠&레저', '남성스포츠의류', '배드민턴복'],\n",
       " ['스포츠&레저', '남성스포츠의류'],\n",
       " ['스포츠&레저', '남성스포츠의류', '낚시복'],\n",
       " ['스포츠&레저', '남성스포츠의류', '탁구복'],\n",
       " ['스포츠&레저', '남성스포츠의류', '테니스복'],\n",
       " ['스포츠&레저', '남성스포츠의류', '자전거/라이딩복'],\n",
       " ['스포츠&레저', '남성스포츠의류', '댄스/에어로빅복'],\n",
       " ['스포츠&레저', '남성스포츠의류', '볼링복'],\n",
       " ['스포츠&레저', '남성스포츠의류', '도복'],\n",
       " ['스포츠&레저', '남성스포츠의류', '발레복'],\n",
       " ['스포츠&레저', '남성스포츠의류', '낚시복', '낚시상의']]"
      ]
     },
     "execution_count": 5,
     "metadata": {},
     "output_type": "execute_result"
    }
   ],
   "source": [
    "category"
   ]
  }
 ],
 "metadata": {
  "kernelspec": {
   "display_name": "Python 3",
   "language": "python",
   "name": "python3"
  },
  "language_info": {
   "codemirror_mode": {
    "name": "ipython",
    "version": 3
   },
   "file_extension": ".py",
   "mimetype": "text/x-python",
   "name": "python",
   "nbconvert_exporter": "python",
   "pygments_lexer": "ipython3",
   "version": "3.7.4"
  }
 },
 "nbformat": 4,
 "nbformat_minor": 2
}
