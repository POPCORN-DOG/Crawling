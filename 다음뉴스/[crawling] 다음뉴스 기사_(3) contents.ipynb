{
 "cells": [
  {
   "cell_type": "code",
   "execution_count": 2,
   "metadata": {},
   "outputs": [],
   "source": [
    "import time\n",
    "import warnings \n",
    "import requests\n",
    "import pandas as pd\n",
    "from bs4 import BeautifulSoup\n",
    "from tqdm import tqdm_notebook, tnrange\n",
    "from pandas import DataFrame\n",
    "from datetime import datetime, timedelta\n",
    "import pandas as pd\n",
    "import pyperclip, re\n",
    "\n",
    "# import datetime은 시간 (x)\n",
    "# datetime.date.today().timedelta(+10)\n",
    "\n",
    "pd.set_option(\"display.max_rows\", None , \"display.max_columns\", None)\n",
    "\n",
    "warnings.filterwarnings(action='ignore')"
   ]
  },
  {
   "cell_type": "code",
   "execution_count": 5,
   "metadata": {
    "scrolled": true
   },
   "outputs": [
    {
     "data": {
      "application/vnd.jupyter.widget-view+json": {
       "model_id": "d46eacc99e8943e2bc1d2d75496ae8eb",
       "version_major": 2,
       "version_minor": 0
      },
      "text/plain": [
       "HBox(children=(IntProgress(value=0, max=365), HTML(value='')))"
      ]
     },
     "metadata": {},
     "output_type": "display_data"
    },
    {
     "name": "stdout",
     "output_type": "stream",
     "text": [
      "20190101\n"
     ]
    },
    {
     "data": {
      "application/vnd.jupyter.widget-view+json": {
       "model_id": "b6194ac59d7a4229ba0403021a480a1a",
       "version_major": 2,
       "version_minor": 0
      },
      "text/plain": [
       "HBox(children=(IntProgress(value=0, max=17423), HTML(value='')))"
      ]
     },
     "metadata": {},
     "output_type": "display_data"
    },
    {
     "name": "stdout",
     "output_type": "stream",
     "text": [
      "------- 삐용삐용 9133 번째에서 에러에러!!!! -------\n",
      "Connection refused by the server..\n",
      "Let me sleep for 10 seconds\n",
      "ZZzzzz...\n",
      "Was a nice sleep, now let me continue...\n",
      "------- 삐용삐용 17051 번째에서 에러에러!!!! -------\n",
      "Connection refused by the server..\n",
      "Let me sleep for 10 seconds\n",
      "ZZzzzz...\n",
      "Was a nice sleep, now let me continue...\n",
      "\n",
      "20190102\n"
     ]
    },
    {
     "data": {
      "application/vnd.jupyter.widget-view+json": {
       "model_id": "6ef7ea9c748842129d6c0e1096f1cfc5",
       "version_major": 2,
       "version_minor": 0
      },
      "text/plain": [
       "HBox(children=(IntProgress(value=0, max=30905), HTML(value='')))"
      ]
     },
     "metadata": {},
     "output_type": "display_data"
    },
    {
     "name": "stdout",
     "output_type": "stream",
     "text": [
      "------- 삐용삐용 10099 번째에서 에러에러!!!! -------\n",
      "Connection refused by the server..\n",
      "Let me sleep for 10 seconds\n",
      "ZZzzzz...\n",
      "Was a nice sleep, now let me continue...\n",
      "------- 삐용삐용 12687 번째에서 에러에러!!!! -------\n",
      "Connection refused by the server..\n",
      "Let me sleep for 10 seconds\n",
      "ZZzzzz...\n",
      "Was a nice sleep, now let me continue...\n",
      "------- 삐용삐용 15248 번째에서 에러에러!!!! -------\n",
      "Connection refused by the server..\n",
      "Let me sleep for 10 seconds\n",
      "ZZzzzz...\n",
      "Was a nice sleep, now let me continue...\n",
      "------- 삐용삐용 17897 번째에서 에러에러!!!! -------\n",
      "Connection refused by the server..\n",
      "Let me sleep for 10 seconds\n",
      "ZZzzzz...\n",
      "Was a nice sleep, now let me continue...\n",
      "------- 삐용삐용 20533 번째에서 에러에러!!!! -------\n",
      "Connection refused by the server..\n",
      "Let me sleep for 10 seconds\n",
      "ZZzzzz...\n",
      "Was a nice sleep, now let me continue...\n",
      "------- 삐용삐용 23175 번째에서 에러에러!!!! -------\n",
      "Connection refused by the server..\n",
      "Let me sleep for 10 seconds\n",
      "ZZzzzz...\n",
      "Was a nice sleep, now let me continue...\n",
      "------- 삐용삐용 30887 번째에서 에러에러!!!! -------\n",
      "Connection refused by the server..\n",
      "Let me sleep for 10 seconds\n",
      "ZZzzzz...\n",
      "Was a nice sleep, now let me continue...\n",
      "\n",
      "20190103\n"
     ]
    },
    {
     "data": {
      "application/vnd.jupyter.widget-view+json": {
       "model_id": "98c6bad8762a44d29f7386404f12b4d7",
       "version_major": 2,
       "version_minor": 0
      },
      "text/plain": [
       "HBox(children=(IntProgress(value=0, max=30319), HTML(value='')))"
      ]
     },
     "metadata": {},
     "output_type": "display_data"
    },
    {
     "name": "stdout",
     "output_type": "stream",
     "text": [
      "------- 삐용삐용 5026 번째에서 에러에러!!!! -------\n",
      "Connection refused by the server..\n",
      "Let me sleep for 10 seconds\n",
      "ZZzzzz...\n",
      "Was a nice sleep, now let me continue...\n",
      "------- 삐용삐용 12803 번째에서 에러에러!!!! -------\n",
      "Connection refused by the server..\n",
      "Let me sleep for 10 seconds\n",
      "ZZzzzz...\n",
      "Was a nice sleep, now let me continue...\n",
      "------- 삐용삐용 15387 번째에서 에러에러!!!! -------\n",
      "Connection refused by the server..\n",
      "Let me sleep for 10 seconds\n",
      "ZZzzzz...\n",
      "Was a nice sleep, now let me continue...\n",
      "\n",
      "20190104\n"
     ]
    },
    {
     "data": {
      "application/vnd.jupyter.widget-view+json": {
       "model_id": "b3f488ab9e454f1c8c7d83c1db21daaa",
       "version_major": 2,
       "version_minor": 0
      },
      "text/plain": [
       "HBox(children=(IntProgress(value=0, max=24836), HTML(value='')))"
      ]
     },
     "metadata": {},
     "output_type": "display_data"
    },
    {
     "name": "stdout",
     "output_type": "stream",
     "text": [
      "------- 삐용삐용 620 번째에서 에러에러!!!! -------\n",
      "Connection refused by the server..\n",
      "Let me sleep for 10 seconds\n",
      "ZZzzzz...\n",
      "Was a nice sleep, now let me continue...\n",
      "------- 삐용삐용 8437 번째에서 에러에러!!!! -------\n",
      "Connection refused by the server..\n",
      "Let me sleep for 10 seconds\n",
      "ZZzzzz...\n",
      "Was a nice sleep, now let me continue...\n",
      "------- 삐용삐용 13636 번째에서 에러에러!!!! -------\n",
      "Connection refused by the server..\n",
      "Let me sleep for 10 seconds\n",
      "ZZzzzz...\n",
      "Was a nice sleep, now let me continue...\n",
      "------- 삐용삐용 16293 번째에서 에러에러!!!! -------\n",
      "Connection refused by the server..\n",
      "Let me sleep for 10 seconds\n",
      "ZZzzzz...\n",
      "Was a nice sleep, now let me continue...\n",
      "------- 삐용삐용 18917 번째에서 에러에러!!!! -------\n",
      "Connection refused by the server..\n",
      "Let me sleep for 10 seconds\n",
      "ZZzzzz...\n",
      "Was a nice sleep, now let me continue...\n",
      "\n",
      "20190105\n"
     ]
    },
    {
     "data": {
      "application/vnd.jupyter.widget-view+json": {
       "model_id": "39361a1939894077876b9b63bdb07c2a",
       "version_major": 2,
       "version_minor": 0
      },
      "text/plain": [
       "HBox(children=(IntProgress(value=0, max=11399), HTML(value='')))"
      ]
     },
     "metadata": {},
     "output_type": "display_data"
    },
    {
     "name": "stdout",
     "output_type": "stream",
     "text": [
      "------- 삐용삐용 10021 번째에서 에러에러!!!! -------\n",
      "Connection refused by the server..\n",
      "Let me sleep for 10 seconds\n",
      "ZZzzzz...\n",
      "Was a nice sleep, now let me continue...\n",
      "\n",
      "20190106\n"
     ]
    },
    {
     "data": {
      "application/vnd.jupyter.widget-view+json": {
       "model_id": "019ac0f4ee094866b89883e0356ff961",
       "version_major": 2,
       "version_minor": 0
      },
      "text/plain": [
       "HBox(children=(IntProgress(value=0, max=15922), HTML(value='')))"
      ]
     },
     "metadata": {},
     "output_type": "display_data"
    },
    {
     "name": "stdout",
     "output_type": "stream",
     "text": [
      "------- 삐용삐용 1263 번째에서 에러에러!!!! -------\n",
      "Connection refused by the server..\n",
      "Let me sleep for 10 seconds\n",
      "ZZzzzz...\n",
      "Was a nice sleep, now let me continue...\n",
      "------- 삐용삐용 3891 번째에서 에러에러!!!! -------\n",
      "Connection refused by the server..\n",
      "Let me sleep for 10 seconds\n",
      "ZZzzzz...\n",
      "Was a nice sleep, now let me continue...\n",
      "------- 삐용삐용 6566 번째에서 에러에러!!!! -------\n",
      "Connection refused by the server..\n",
      "Let me sleep for 10 seconds\n",
      "ZZzzzz...\n",
      "Was a nice sleep, now let me continue...\n",
      "------- 삐용삐용 9250 번째에서 에러에러!!!! -------\n",
      "Connection refused by the server..\n",
      "Let me sleep for 10 seconds\n",
      "ZZzzzz...\n",
      "Was a nice sleep, now let me continue...\n",
      "\n",
      "20190107\n"
     ]
    },
    {
     "data": {
      "application/vnd.jupyter.widget-view+json": {
       "model_id": "3179f927335644e5bf51d22caff9000d",
       "version_major": 2,
       "version_minor": 0
      },
      "text/plain": [
       "HBox(children=(IntProgress(value=0, max=30082), HTML(value='')))"
      ]
     },
     "metadata": {},
     "output_type": "display_data"
    },
    {
     "name": "stdout",
     "output_type": "stream",
     "text": [
      "------- 삐용삐용 1322 번째에서 에러에러!!!! -------\n",
      "Connection refused by the server..\n",
      "Let me sleep for 10 seconds\n",
      "ZZzzzz...\n",
      "Was a nice sleep, now let me continue...\n",
      "------- 삐용삐용 3985 번째에서 에러에러!!!! -------\n",
      "Connection refused by the server..\n",
      "Let me sleep for 10 seconds\n",
      "ZZzzzz...\n",
      "Was a nice sleep, now let me continue...\n",
      "------- 삐용삐용 20066 번째에서 에러에러!!!! -------\n",
      "Connection refused by the server..\n",
      "Let me sleep for 10 seconds\n",
      "ZZzzzz...\n",
      "Was a nice sleep, now let me continue...\n",
      "\n",
      "20190108\n"
     ]
    },
    {
     "data": {
      "application/vnd.jupyter.widget-view+json": {
       "model_id": "cd0b2dea87bb4516b9f24393a1136975",
       "version_major": 2,
       "version_minor": 0
      },
      "text/plain": [
       "HBox(children=(IntProgress(value=0, max=31439), HTML(value='')))"
      ]
     },
     "metadata": {},
     "output_type": "display_data"
    },
    {
     "name": "stdout",
     "output_type": "stream",
     "text": [
      "------- 삐용삐용 528 번째에서 에러에러!!!! -------\n",
      "Connection refused by the server..\n",
      "Let me sleep for 10 seconds\n",
      "ZZzzzz...\n",
      "Was a nice sleep, now let me continue...\n",
      "------- 삐용삐용 16675 번째에서 에러에러!!!! -------\n",
      "Connection refused by the server..\n",
      "Let me sleep for 10 seconds\n",
      "ZZzzzz...\n",
      "Was a nice sleep, now let me continue...\n",
      "------- 삐용삐용 22055 번째에서 에러에러!!!! -------\n",
      "Connection refused by the server..\n",
      "Let me sleep for 10 seconds\n",
      "ZZzzzz...\n",
      "Was a nice sleep, now let me continue...\n",
      "------- 삐용삐용 24692 번째에서 에러에러!!!! -------\n",
      "Connection refused by the server..\n",
      "Let me sleep for 10 seconds\n",
      "ZZzzzz...\n",
      "Was a nice sleep, now let me continue...\n",
      "\n",
      "20190109\n"
     ]
    },
    {
     "data": {
      "application/vnd.jupyter.widget-view+json": {
       "model_id": "ddf5a681f0c74e83b90a1028f2b83945",
       "version_major": 2,
       "version_minor": 0
      },
      "text/plain": [
       "HBox(children=(IntProgress(value=0, max=32470), HTML(value='')))"
      ]
     },
     "metadata": {},
     "output_type": "display_data"
    },
    {
     "name": "stdout",
     "output_type": "stream",
     "text": [
      "------- 삐용삐용 2033 번째에서 에러에러!!!! -------\n",
      "Connection refused by the server..\n",
      "Let me sleep for 10 seconds\n",
      "ZZzzzz...\n",
      "Was a nice sleep, now let me continue...\n",
      "------- 삐용삐용 12821 번째에서 에러에러!!!! -------\n",
      "Connection refused by the server..\n",
      "Let me sleep for 10 seconds\n",
      "ZZzzzz...\n",
      "Was a nice sleep, now let me continue...\n",
      "------- 삐용삐용 26252 번째에서 에러에러!!!! -------\n",
      "Connection refused by the server..\n",
      "Let me sleep for 10 seconds\n",
      "ZZzzzz...\n",
      "Was a nice sleep, now let me continue...\n",
      "------- 삐용삐용 31516 번째에서 에러에러!!!! -------\n",
      "Connection refused by the server..\n",
      "Let me sleep for 10 seconds\n",
      "ZZzzzz...\n",
      "Was a nice sleep, now let me continue...\n",
      "\n",
      "20190110\n"
     ]
    },
    {
     "data": {
      "application/vnd.jupyter.widget-view+json": {
       "model_id": "e2d6f99a89af4a40a6faafc5813daf38",
       "version_major": 2,
       "version_minor": 0
      },
      "text/plain": [
       "HBox(children=(IntProgress(value=0, max=31956), HTML(value='')))"
      ]
     },
     "metadata": {},
     "output_type": "display_data"
    },
    {
     "name": "stdout",
     "output_type": "stream",
     "text": [
      "------- 삐용삐용 1653 번째에서 에러에러!!!! -------\n",
      "Connection refused by the server..\n",
      "Let me sleep for 10 seconds\n",
      "ZZzzzz...\n",
      "Was a nice sleep, now let me continue...\n",
      "------- 삐용삐용 9613 번째에서 에러에러!!!! -------\n",
      "Connection refused by the server..\n",
      "Let me sleep for 10 seconds\n",
      "ZZzzzz...\n",
      "Was a nice sleep, now let me continue...\n",
      "------- 삐용삐용 16157 번째에서 에러에러!!!! -------\n",
      "Connection refused by the server..\n",
      "Let me sleep for 10 seconds\n",
      "ZZzzzz...\n",
      "Was a nice sleep, now let me continue...\n",
      "------- 삐용삐용 20163 번째에서 에러에러!!!! -------\n",
      "Connection refused by the server..\n",
      "Let me sleep for 10 seconds\n",
      "ZZzzzz...\n",
      "Was a nice sleep, now let me continue...\n",
      "\n",
      "20190111\n"
     ]
    },
    {
     "data": {
      "application/vnd.jupyter.widget-view+json": {
       "model_id": "c33b567b017944e4a4cba8754f7451df",
       "version_major": 2,
       "version_minor": 0
      },
      "text/plain": [
       "HBox(children=(IntProgress(value=0, max=26419), HTML(value='')))"
      ]
     },
     "metadata": {},
     "output_type": "display_data"
    },
    {
     "name": "stdout",
     "output_type": "stream",
     "text": [
      "------- 삐용삐용 4844 번째에서 에러에러!!!! -------\n",
      "Connection refused by the server..\n",
      "Let me sleep for 10 seconds\n",
      "ZZzzzz...\n",
      "Was a nice sleep, now let me continue...\n",
      "------- 삐용삐용 8807 번째에서 에러에러!!!! -------\n",
      "Connection refused by the server..\n",
      "Let me sleep for 10 seconds\n",
      "ZZzzzz...\n",
      "Was a nice sleep, now let me continue...\n",
      "------- 삐용삐용 16949 번째에서 에러에러!!!! -------\n",
      "Connection refused by the server..\n",
      "Let me sleep for 10 seconds\n",
      "ZZzzzz...\n",
      "Was a nice sleep, now let me continue...\n",
      "------- 삐용삐용 20914 번째에서 에러에러!!!! -------\n",
      "Connection refused by the server..\n",
      "Let me sleep for 10 seconds\n",
      "ZZzzzz...\n",
      "Was a nice sleep, now let me continue...\n",
      "------- 삐용삐용 24944 번째에서 에러에러!!!! -------\n",
      "Connection refused by the server..\n",
      "Let me sleep for 10 seconds\n",
      "ZZzzzz...\n",
      "Was a nice sleep, now let me continue...\n",
      "\n",
      "20190112\n"
     ]
    },
    {
     "data": {
      "application/vnd.jupyter.widget-view+json": {
       "model_id": "99e44ef5756c4a44ab1a03b3b7892af4",
       "version_major": 2,
       "version_minor": 0
      },
      "text/plain": [
       "HBox(children=(IntProgress(value=0, max=11395), HTML(value='')))"
      ]
     },
     "metadata": {},
     "output_type": "display_data"
    },
    {
     "name": "stdout",
     "output_type": "stream",
     "text": [
      "------- 삐용삐용 6705 번째에서 에러에러!!!! -------\n",
      "Connection refused by the server..\n",
      "Let me sleep for 10 seconds\n",
      "ZZzzzz...\n",
      "Was a nice sleep, now let me continue...\n",
      "------- 삐용삐용 10741 번째에서 에러에러!!!! -------\n",
      "Connection refused by the server..\n",
      "Let me sleep for 10 seconds\n",
      "ZZzzzz...\n",
      "Was a nice sleep, now let me continue...\n",
      "\n",
      "20190113\n"
     ]
    },
    {
     "data": {
      "application/vnd.jupyter.widget-view+json": {
       "model_id": "eae58e4572f144e2bcd87b8fc03656b1",
       "version_major": 2,
       "version_minor": 0
      },
      "text/plain": [
       "HBox(children=(IntProgress(value=0, max=14185), HTML(value='')))"
      ]
     },
     "metadata": {},
     "output_type": "display_data"
    },
    {
     "name": "stdout",
     "output_type": "stream",
     "text": [
      "\n",
      "20190114\n"
     ]
    },
    {
     "data": {
      "application/vnd.jupyter.widget-view+json": {
       "model_id": "d6ff9d92e37042e793e8e4174c3432c9",
       "version_major": 2,
       "version_minor": 0
      },
      "text/plain": [
       "HBox(children=(IntProgress(value=0, max=31323), HTML(value='')))"
      ]
     },
     "metadata": {},
     "output_type": "display_data"
    },
    {
     "name": "stdout",
     "output_type": "stream",
     "text": [
      "------- 삐용삐용 8690 번째에서 에러에러!!!! -------\n",
      "Connection refused by the server..\n",
      "Let me sleep for 10 seconds\n",
      "ZZzzzz...\n",
      "Was a nice sleep, now let me continue...\n",
      "------- 삐용삐용 15771 번째에서 에러에러!!!! -------\n",
      "Connection refused by the server..\n",
      "Let me sleep for 10 seconds\n",
      "ZZzzzz...\n",
      "Was a nice sleep, now let me continue...\n",
      "------- 삐용삐용 19662 번째에서 에러에러!!!! -------\n",
      "Connection refused by the server..\n",
      "Let me sleep for 10 seconds\n",
      "ZZzzzz...\n",
      "Was a nice sleep, now let me continue...\n",
      "------- 삐용삐용 23443 번째에서 에러에러!!!! -------\n",
      "Connection refused by the server..\n",
      "Let me sleep for 10 seconds\n",
      "ZZzzzz...\n",
      "Was a nice sleep, now let me continue...\n",
      "------- 삐용삐용 30769 번째에서 에러에러!!!! -------\n",
      "Connection refused by the server..\n",
      "Let me sleep for 10 seconds\n",
      "ZZzzzz...\n",
      "Was a nice sleep, now let me continue...\n",
      "\n",
      "20190115\n"
     ]
    },
    {
     "data": {
      "application/vnd.jupyter.widget-view+json": {
       "model_id": "2ca2a56237234a72af9d8ed730659aec",
       "version_major": 2,
       "version_minor": 0
      },
      "text/plain": [
       "HBox(children=(IntProgress(value=0, max=34773), HTML(value='')))"
      ]
     },
     "metadata": {},
     "output_type": "display_data"
    },
    {
     "name": "stdout",
     "output_type": "stream",
     "text": [
      "------- 삐용삐용 3071 번째에서 에러에러!!!! -------\n",
      "Connection refused by the server..\n",
      "Let me sleep for 10 seconds\n",
      "ZZzzzz...\n",
      "Was a nice sleep, now let me continue...\n",
      "------- 삐용삐용 6672 번째에서 에러에러!!!! -------\n",
      "Connection refused by the server..\n",
      "Let me sleep for 10 seconds\n",
      "ZZzzzz...\n",
      "Was a nice sleep, now let me continue...\n",
      "------- 삐용삐용 10659 번째에서 에러에러!!!! -------\n",
      "Connection refused by the server..\n",
      "Let me sleep for 10 seconds\n",
      "ZZzzzz...\n",
      "Was a nice sleep, now let me continue...\n",
      "------- 삐용삐용 18667 번째에서 에러에러!!!! -------\n",
      "Connection refused by the server..\n",
      "Let me sleep for 10 seconds\n",
      "ZZzzzz...\n",
      "Was a nice sleep, now let me continue...\n",
      "------- 삐용삐용 22732 번째에서 에러에러!!!! -------\n",
      "Connection refused by the server..\n",
      "Let me sleep for 10 seconds\n",
      "ZZzzzz...\n",
      "Was a nice sleep, now let me continue...\n",
      "------- 삐용삐용 30734 번째에서 에러에러!!!! -------\n",
      "Connection refused by the server..\n",
      "Let me sleep for 10 seconds\n",
      "ZZzzzz...\n",
      "Was a nice sleep, now let me continue...\n",
      "\n",
      "20190116\n"
     ]
    },
    {
     "data": {
      "application/vnd.jupyter.widget-view+json": {
       "model_id": "81ebe5c6c0ef46768ca215de593162ea",
       "version_major": 2,
       "version_minor": 0
      },
      "text/plain": [
       "HBox(children=(IntProgress(value=0, max=33015), HTML(value='')))"
      ]
     },
     "metadata": {},
     "output_type": "display_data"
    },
    {
     "name": "stdout",
     "output_type": "stream",
     "text": [
      "------- 삐용삐용 3927 번째에서 에러에러!!!! -------\n",
      "Connection refused by the server..\n",
      "Let me sleep for 10 seconds\n",
      "ZZzzzz...\n",
      "Was a nice sleep, now let me continue...\n",
      "------- 삐용삐용 7937 번째에서 에러에러!!!! -------\n",
      "Connection refused by the server..\n",
      "Let me sleep for 10 seconds\n",
      "ZZzzzz...\n",
      "Was a nice sleep, now let me continue...\n",
      "------- 삐용삐용 15973 번째에서 에러에러!!!! -------\n",
      "Connection refused by the server..\n",
      "Let me sleep for 10 seconds\n",
      "ZZzzzz...\n",
      "Was a nice sleep, now let me continue...\n",
      "------- 삐용삐용 20037 번째에서 에러에러!!!! -------\n",
      "Connection refused by the server..\n",
      "Let me sleep for 10 seconds\n",
      "ZZzzzz...\n",
      "Was a nice sleep, now let me continue...\n",
      "------- 삐용삐용 24057 번째에서 에러에러!!!! -------\n",
      "Connection refused by the server..\n",
      "Let me sleep for 10 seconds\n",
      "ZZzzzz...\n",
      "Was a nice sleep, now let me continue...\n",
      "\n",
      "20190117\n"
     ]
    },
    {
     "data": {
      "application/vnd.jupyter.widget-view+json": {
       "model_id": "2de5d143079343f1ba176f13f4ba6a8c",
       "version_major": 2,
       "version_minor": 0
      },
      "text/plain": [
       "HBox(children=(IntProgress(value=0, max=31343), HTML(value='')))"
      ]
     },
     "metadata": {},
     "output_type": "display_data"
    },
    {
     "name": "stdout",
     "output_type": "stream",
     "text": [
      "------- 삐용삐용 19224 번째에서 에러에러!!!! -------\n",
      "Connection refused by the server..\n",
      "Let me sleep for 10 seconds\n",
      "ZZzzzz...\n",
      "Was a nice sleep, now let me continue...\n",
      "------- 삐용삐용 27272 번째에서 에러에러!!!! -------\n",
      "Connection refused by the server..\n",
      "Let me sleep for 10 seconds\n",
      "ZZzzzz...\n",
      "Was a nice sleep, now let me continue...\n",
      "\n",
      "20190118\n"
     ]
    },
    {
     "data": {
      "application/vnd.jupyter.widget-view+json": {
       "model_id": "740a4baa42b54ead90c5396d4e07ba98",
       "version_major": 2,
       "version_minor": 0
      },
      "text/plain": [
       "HBox(children=(IntProgress(value=0, max=25336), HTML(value='')))"
      ]
     },
     "metadata": {},
     "output_type": "display_data"
    },
    {
     "name": "stdout",
     "output_type": "stream",
     "text": [
      "------- 삐용삐용 4037 번째에서 에러에러!!!! -------\n",
      "Connection refused by the server..\n",
      "Let me sleep for 10 seconds\n",
      "ZZzzzz...\n",
      "Was a nice sleep, now let me continue...\n",
      "------- 삐용삐용 8078 번째에서 에러에러!!!! -------\n",
      "Connection refused by the server..\n",
      "Let me sleep for 10 seconds\n",
      "ZZzzzz...\n",
      "Was a nice sleep, now let me continue...\n",
      "------- 삐용삐용 24348 번째에서 에러에러!!!! -------\n",
      "Connection refused by the server..\n",
      "Let me sleep for 10 seconds\n",
      "ZZzzzz...\n",
      "Was a nice sleep, now let me continue...\n",
      "\n",
      "20190119\n"
     ]
    },
    {
     "data": {
      "application/vnd.jupyter.widget-view+json": {
       "model_id": "d13d004101d5420abb9963c704575dd0",
       "version_major": 2,
       "version_minor": 0
      },
      "text/plain": [
       "HBox(children=(IntProgress(value=0, max=11374), HTML(value='')))"
      ]
     },
     "metadata": {},
     "output_type": "display_data"
    },
    {
     "name": "stdout",
     "output_type": "stream",
     "text": [
      "------- 삐용삐용 3005 번째에서 에러에러!!!! -------\n",
      "Connection refused by the server..\n",
      "Let me sleep for 10 seconds\n",
      "ZZzzzz...\n",
      "Was a nice sleep, now let me continue...\n",
      "------- 삐용삐용 7042 번째에서 에러에러!!!! -------\n",
      "Connection refused by the server..\n",
      "Let me sleep for 10 seconds\n",
      "ZZzzzz...\n",
      "Was a nice sleep, now let me continue...\n",
      "------- 삐용삐용 11072 번째에서 에러에러!!!! -------\n",
      "Connection refused by the server..\n",
      "Let me sleep for 10 seconds\n",
      "ZZzzzz...\n",
      "Was a nice sleep, now let me continue...\n",
      "\n",
      "20190120\n"
     ]
    },
    {
     "data": {
      "application/vnd.jupyter.widget-view+json": {
       "model_id": "20f29ceac1be47f28c078bbe42591d24",
       "version_major": 2,
       "version_minor": 0
      },
      "text/plain": [
       "HBox(children=(IntProgress(value=0, max=16630), HTML(value='')))"
      ]
     },
     "metadata": {},
     "output_type": "display_data"
    },
    {
     "name": "stdout",
     "output_type": "stream",
     "text": [
      "------- 삐용삐용 7817 번째에서 에러에러!!!! -------\n",
      "Connection refused by the server..\n",
      "Let me sleep for 10 seconds\n",
      "ZZzzzz...\n",
      "Was a nice sleep, now let me continue...\n",
      "------- 삐용삐용 15873 번째에서 에러에러!!!! -------\n",
      "Connection refused by the server..\n",
      "Let me sleep for 10 seconds\n",
      "ZZzzzz...\n",
      "Was a nice sleep, now let me continue...\n",
      "\n",
      "20190121\n"
     ]
    },
    {
     "data": {
      "application/vnd.jupyter.widget-view+json": {
       "model_id": "02475fe3536f43bab07c98ea9612616c",
       "version_major": 2,
       "version_minor": 0
      },
      "text/plain": [
       "HBox(children=(IntProgress(value=0, max=33764), HTML(value='')))"
      ]
     },
     "metadata": {},
     "output_type": "display_data"
    },
    {
     "name": "stdout",
     "output_type": "stream",
     "text": [
      "------- 삐용삐용 3250 번째에서 에러에러!!!! -------\n",
      "Connection refused by the server..\n",
      "Let me sleep for 10 seconds\n",
      "ZZzzzz...\n",
      "Was a nice sleep, now let me continue...\n",
      "------- 삐용삐용 15277 번째에서 에러에러!!!! -------\n",
      "Connection refused by the server..\n",
      "Let me sleep for 10 seconds\n",
      "ZZzzzz...\n",
      "Was a nice sleep, now let me continue...\n",
      "------- 삐용삐용 30108 번째에서 에러에러!!!! -------\n",
      "Connection refused by the server..\n",
      "Let me sleep for 10 seconds\n",
      "ZZzzzz...\n",
      "Was a nice sleep, now let me continue...\n",
      "\n",
      "20190122\n"
     ]
    },
    {
     "data": {
      "application/vnd.jupyter.widget-view+json": {
       "model_id": "60a0f55c537b4d4589ec1fec5fc907e2",
       "version_major": 2,
       "version_minor": 0
      },
      "text/plain": [
       "HBox(children=(IntProgress(value=0, max=31256), HTML(value='')))"
      ]
     },
     "metadata": {},
     "output_type": "display_data"
    },
    {
     "name": "stdout",
     "output_type": "stream",
     "text": [
      "------- 삐용삐용 6141 번째에서 에러에러!!!! -------\n",
      "Connection refused by the server..\n",
      "Let me sleep for 10 seconds\n",
      "ZZzzzz...\n",
      "Was a nice sleep, now let me continue...\n",
      "------- 삐용삐용 13590 번째에서 에러에러!!!! -------\n",
      "Connection refused by the server..\n",
      "Let me sleep for 10 seconds\n",
      "ZZzzzz...\n",
      "Was a nice sleep, now let me continue...\n",
      "\n",
      "20190123\n"
     ]
    },
    {
     "data": {
      "application/vnd.jupyter.widget-view+json": {
       "model_id": "1d96c243a74f41f6a44985c3cebd947c",
       "version_major": 2,
       "version_minor": 0
      },
      "text/plain": [
       "HBox(children=(IntProgress(value=0, max=34397), HTML(value='')))"
      ]
     },
     "metadata": {},
     "output_type": "display_data"
    },
    {
     "name": "stdout",
     "output_type": "stream",
     "text": [
      "------- 삐용삐용 1683 번째에서 에러에러!!!! -------\n",
      "Connection refused by the server..\n",
      "Let me sleep for 10 seconds\n",
      "ZZzzzz...\n",
      "Was a nice sleep, now let me continue...\n",
      "------- 삐용삐용 5582 번째에서 에러에러!!!! -------\n",
      "Connection refused by the server..\n",
      "Let me sleep for 10 seconds\n",
      "ZZzzzz...\n",
      "Was a nice sleep, now let me continue...\n",
      "------- 삐용삐용 9444 번째에서 에러에러!!!! -------\n",
      "Connection refused by the server..\n",
      "Let me sleep for 10 seconds\n",
      "ZZzzzz...\n",
      "Was a nice sleep, now let me continue...\n",
      "------- 삐용삐용 13126 번째에서 에러에러!!!! -------\n",
      "Connection refused by the server..\n",
      "Let me sleep for 10 seconds\n",
      "ZZzzzz...\n",
      "Was a nice sleep, now let me continue...\n",
      "------- 삐용삐용 16908 번째에서 에러에러!!!! -------\n",
      "Connection refused by the server..\n",
      "Let me sleep for 10 seconds\n",
      "ZZzzzz...\n",
      "Was a nice sleep, now let me continue...\n",
      "------- 삐용삐용 20811 번째에서 에러에러!!!! -------\n",
      "Connection refused by the server..\n",
      "Let me sleep for 10 seconds\n",
      "ZZzzzz...\n",
      "Was a nice sleep, now let me continue...\n",
      "------- 삐용삐용 24741 번째에서 에러에러!!!! -------\n",
      "Connection refused by the server..\n",
      "Let me sleep for 10 seconds\n",
      "ZZzzzz...\n",
      "Was a nice sleep, now let me continue...\n",
      "------- 삐용삐용 28590 번째에서 에러에러!!!! -------\n",
      "Connection refused by the server..\n",
      "Let me sleep for 10 seconds\n",
      "ZZzzzz...\n",
      "Was a nice sleep, now let me continue...\n",
      "------- 삐용삐용 32106 번째에서 에러에러!!!! -------\n",
      "Connection refused by the server..\n",
      "Let me sleep for 10 seconds\n",
      "ZZzzzz...\n",
      "Was a nice sleep, now let me continue...\n",
      "\n",
      "20190124\n"
     ]
    },
    {
     "data": {
      "application/vnd.jupyter.widget-view+json": {
       "model_id": "ccdd1cd5772a4234abde338607a326a9",
       "version_major": 2,
       "version_minor": 0
      },
      "text/plain": [
       "HBox(children=(IntProgress(value=0, max=35878), HTML(value='')))"
      ]
     },
     "metadata": {},
     "output_type": "display_data"
    },
    {
     "name": "stdout",
     "output_type": "stream",
     "text": [
      "------- 삐용삐용 7391 번째에서 에러에러!!!! -------\n",
      "Connection refused by the server..\n",
      "Let me sleep for 10 seconds\n",
      "ZZzzzz...\n",
      "Was a nice sleep, now let me continue...\n",
      "------- 삐용삐용 22861 번째에서 에러에러!!!! -------\n",
      "Connection refused by the server..\n",
      "Let me sleep for 10 seconds\n",
      "ZZzzzz...\n",
      "Was a nice sleep, now let me continue...\n",
      "\n",
      "20190125\n"
     ]
    },
    {
     "data": {
      "application/vnd.jupyter.widget-view+json": {
       "model_id": "15ceea2508774a54bf7a9ae6b3c4bb3a",
       "version_major": 2,
       "version_minor": 0
      },
      "text/plain": [
       "HBox(children=(IntProgress(value=0, max=29799), HTML(value='')))"
      ]
     },
     "metadata": {},
     "output_type": "display_data"
    },
    {
     "name": "stdout",
     "output_type": "stream",
     "text": [
      "------- 삐용삐용 12951 번째에서 에러에러!!!! -------\n",
      "Connection refused by the server..\n",
      "Let me sleep for 10 seconds\n",
      "ZZzzzz...\n",
      "Was a nice sleep, now let me continue...\n",
      "------- 삐용삐용 21102 번째에서 에러에러!!!! -------\n",
      "Connection refused by the server..\n",
      "Let me sleep for 10 seconds\n",
      "ZZzzzz...\n",
      "Was a nice sleep, now let me continue...\n",
      "------- 삐용삐용 29127 번째에서 에러에러!!!! -------\n",
      "Connection refused by the server..\n",
      "Let me sleep for 10 seconds\n",
      "ZZzzzz...\n",
      "Was a nice sleep, now let me continue...\n",
      "\n",
      "20190126\n"
     ]
    },
    {
     "data": {
      "application/vnd.jupyter.widget-view+json": {
       "model_id": "1a5d6e586ae44a3d8b5d359fcdbd7e6b",
       "version_major": 2,
       "version_minor": 0
      },
      "text/plain": [
       "HBox(children=(IntProgress(value=0, max=13293), HTML(value='')))"
      ]
     },
     "metadata": {},
     "output_type": "display_data"
    },
    {
     "name": "stdout",
     "output_type": "stream",
     "text": [
      "------- 삐용삐용 7422 번째에서 에러에러!!!! -------\n",
      "Connection refused by the server..\n",
      "Let me sleep for 10 seconds\n",
      "ZZzzzz...\n",
      "Was a nice sleep, now let me continue...\n",
      "\n",
      "20190127\n"
     ]
    },
    {
     "data": {
      "application/vnd.jupyter.widget-view+json": {
       "model_id": "981e8a39134c46a5a466d36e383713eb",
       "version_major": 2,
       "version_minor": 0
      },
      "text/plain": [
       "HBox(children=(IntProgress(value=0, max=15409), HTML(value='')))"
      ]
     },
     "metadata": {},
     "output_type": "display_data"
    },
    {
     "name": "stdout",
     "output_type": "stream",
     "text": [
      "------- 삐용삐용 2206 번째에서 에러에러!!!! -------\n",
      "Connection refused by the server..\n",
      "Let me sleep for 10 seconds\n",
      "ZZzzzz...\n",
      "Was a nice sleep, now let me continue...\n",
      "\n",
      "20190128\n"
     ]
    },
    {
     "data": {
      "application/vnd.jupyter.widget-view+json": {
       "model_id": "a3da3f56c87042f49304b41f3f21fb25",
       "version_major": 2,
       "version_minor": 0
      },
      "text/plain": [
       "HBox(children=(IntProgress(value=0, max=31665), HTML(value='')))"
      ]
     },
     "metadata": {},
     "output_type": "display_data"
    },
    {
     "name": "stdout",
     "output_type": "stream",
     "text": [
      "------- 삐용삐용 3100 번째에서 에러에러!!!! -------\n",
      "Connection refused by the server..\n",
      "Let me sleep for 10 seconds\n",
      "ZZzzzz...\n",
      "Was a nice sleep, now let me continue...\n",
      "------- 삐용삐용 15348 번째에서 에러에러!!!! -------\n",
      "Connection refused by the server..\n",
      "Let me sleep for 10 seconds\n",
      "ZZzzzz...\n",
      "Was a nice sleep, now let me continue...\n",
      "------- 삐용삐용 31596 번째에서 에러에러!!!! -------\n",
      "Connection refused by the server..\n",
      "Let me sleep for 10 seconds\n",
      "ZZzzzz...\n",
      "Was a nice sleep, now let me continue...\n",
      "\n",
      "20190129\n"
     ]
    },
    {
     "data": {
      "application/vnd.jupyter.widget-view+json": {
       "model_id": "bfb0f5fbade54d09a3fa6908f78f6288",
       "version_major": 2,
       "version_minor": 0
      },
      "text/plain": [
       "HBox(children=(IntProgress(value=0, max=33999), HTML(value='')))"
      ]
     },
     "metadata": {},
     "output_type": "display_data"
    },
    {
     "name": "stdout",
     "output_type": "stream",
     "text": [
      "------- 삐용삐용 3983 번째에서 에러에러!!!! -------\n",
      "Connection refused by the server..\n",
      "Let me sleep for 10 seconds\n",
      "ZZzzzz...\n",
      "Was a nice sleep, now let me continue...\n",
      "------- 삐용삐용 32387 번째에서 에러에러!!!! -------\n",
      "Connection refused by the server..\n",
      "Let me sleep for 10 seconds\n",
      "ZZzzzz...\n",
      "Was a nice sleep, now let me continue...\n",
      "\n",
      "20190130\n"
     ]
    },
    {
     "data": {
      "application/vnd.jupyter.widget-view+json": {
       "model_id": "bd21e7babc3643628faae7db31c17074",
       "version_major": 2,
       "version_minor": 0
      },
      "text/plain": [
       "HBox(children=(IntProgress(value=0, max=36017), HTML(value='')))"
      ]
     },
     "metadata": {},
     "output_type": "display_data"
    },
    {
     "name": "stdout",
     "output_type": "stream",
     "text": [
      "------- 삐용삐용 709 번째에서 에러에러!!!! -------\n",
      "Connection refused by the server..\n",
      "Let me sleep for 10 seconds\n",
      "ZZzzzz...\n",
      "Was a nice sleep, now let me continue...\n",
      "------- 삐용삐용 1384 번째에서 에러에러!!!! -------\n",
      "Connection refused by the server..\n",
      "Let me sleep for 10 seconds\n",
      "ZZzzzz...\n",
      "Was a nice sleep, now let me continue...\n",
      "------- 삐용삐용 10454 번째에서 에러에러!!!! -------\n",
      "Connection refused by the server..\n",
      "Let me sleep for 10 seconds\n",
      "ZZzzzz...\n",
      "Was a nice sleep, now let me continue...\n",
      "------- 삐용삐용 14457 번째에서 에러에러!!!! -------\n",
      "Connection refused by the server..\n",
      "Let me sleep for 10 seconds\n",
      "ZZzzzz...\n",
      "Was a nice sleep, now let me continue...\n",
      "------- 삐용삐용 18387 번째에서 에러에러!!!! -------\n",
      "Connection refused by the server..\n",
      "Let me sleep for 10 seconds\n",
      "ZZzzzz...\n",
      "Was a nice sleep, now let me continue...\n",
      "------- 삐용삐용 28575 번째에서 에러에러!!!! -------\n",
      "Connection refused by the server..\n",
      "Let me sleep for 10 seconds\n",
      "ZZzzzz...\n"
     ]
    },
    {
     "ename": "KeyboardInterrupt",
     "evalue": "",
     "output_type": "error",
     "traceback": [
      "\u001b[1;31m---------------------------------------------------------------------------\u001b[0m",
      "\u001b[1;31mKeyboardInterrupt\u001b[0m                         Traceback (most recent call last)",
      "\u001b[1;32m<ipython-input-5-53e0df87b50c>\u001b[0m in \u001b[0;36m<module>\u001b[1;34m\u001b[0m\n\u001b[0;32m     22\u001b[0m             \u001b[0mnum\u001b[0m\u001b[1;33m.\u001b[0m\u001b[0mappend\u001b[0m\u001b[1;33m(\u001b[0m\u001b[0mi\u001b[0m\u001b[1;33m+\u001b[0m\u001b[1;36m1\u001b[0m\u001b[1;33m)\u001b[0m\u001b[1;33m\u001b[0m\u001b[1;33m\u001b[0m\u001b[0m\n\u001b[1;32m---> 23\u001b[1;33m             \u001b[0msoup\u001b[0m \u001b[1;33m=\u001b[0m \u001b[0mBeautifulSoup\u001b[0m\u001b[1;33m(\u001b[0m\u001b[0mrequests\u001b[0m\u001b[1;33m.\u001b[0m\u001b[0mget\u001b[0m\u001b[1;33m(\u001b[0m\u001b[0mdf\u001b[0m\u001b[1;33m[\u001b[0m\u001b[1;34m'url'\u001b[0m\u001b[1;33m]\u001b[0m\u001b[1;33m[\u001b[0m\u001b[0mi\u001b[0m\u001b[1;33m]\u001b[0m\u001b[1;33m,\u001b[0m\u001b[0mverify\u001b[0m\u001b[1;33m=\u001b[0m\u001b[1;32mFalse\u001b[0m\u001b[1;33m)\u001b[0m\u001b[1;33m.\u001b[0m\u001b[0mtext\u001b[0m\u001b[1;33m,\u001b[0m\u001b[1;34m\"lxml\"\u001b[0m\u001b[1;33m)\u001b[0m\u001b[1;33m\u001b[0m\u001b[1;33m\u001b[0m\u001b[0m\n\u001b[0m\u001b[0;32m     24\u001b[0m             \u001b[0msoup_2\u001b[0m \u001b[1;33m=\u001b[0m \u001b[0msoup\u001b[0m\u001b[1;33m.\u001b[0m\u001b[0mselect\u001b[0m\u001b[1;33m(\u001b[0m\u001b[1;34m'.info_view'\u001b[0m\u001b[1;33m)\u001b[0m\u001b[1;33m[\u001b[0m\u001b[1;36m0\u001b[0m\u001b[1;33m]\u001b[0m\u001b[1;33m.\u001b[0m\u001b[0mtext\u001b[0m\u001b[1;33m\u001b[0m\u001b[1;33m\u001b[0m\u001b[0m\n",
      "\u001b[1;32mC:\\Anaconda3\\lib\\site-packages\\requests\\api.py\u001b[0m in \u001b[0;36mget\u001b[1;34m(url, params, **kwargs)\u001b[0m\n\u001b[0;32m     69\u001b[0m     \u001b[0mkwargs\u001b[0m\u001b[1;33m.\u001b[0m\u001b[0msetdefault\u001b[0m\u001b[1;33m(\u001b[0m\u001b[1;34m'allow_redirects'\u001b[0m\u001b[1;33m,\u001b[0m \u001b[1;32mTrue\u001b[0m\u001b[1;33m)\u001b[0m\u001b[1;33m\u001b[0m\u001b[1;33m\u001b[0m\u001b[0m\n\u001b[1;32m---> 70\u001b[1;33m     \u001b[1;32mreturn\u001b[0m \u001b[0mrequest\u001b[0m\u001b[1;33m(\u001b[0m\u001b[1;34m'get'\u001b[0m\u001b[1;33m,\u001b[0m \u001b[0murl\u001b[0m\u001b[1;33m,\u001b[0m \u001b[0mparams\u001b[0m\u001b[1;33m=\u001b[0m\u001b[0mparams\u001b[0m\u001b[1;33m,\u001b[0m \u001b[1;33m**\u001b[0m\u001b[0mkwargs\u001b[0m\u001b[1;33m)\u001b[0m\u001b[1;33m\u001b[0m\u001b[1;33m\u001b[0m\u001b[0m\n\u001b[0m\u001b[0;32m     71\u001b[0m \u001b[1;33m\u001b[0m\u001b[0m\n",
      "\u001b[1;32mC:\\Anaconda3\\lib\\site-packages\\requests\\api.py\u001b[0m in \u001b[0;36mrequest\u001b[1;34m(method, url, **kwargs)\u001b[0m\n\u001b[0;32m     55\u001b[0m     \u001b[1;32mwith\u001b[0m \u001b[0msessions\u001b[0m\u001b[1;33m.\u001b[0m\u001b[0mSession\u001b[0m\u001b[1;33m(\u001b[0m\u001b[1;33m)\u001b[0m \u001b[1;32mas\u001b[0m \u001b[0msession\u001b[0m\u001b[1;33m:\u001b[0m\u001b[1;33m\u001b[0m\u001b[1;33m\u001b[0m\u001b[0m\n\u001b[1;32m---> 56\u001b[1;33m         \u001b[1;32mreturn\u001b[0m \u001b[0msession\u001b[0m\u001b[1;33m.\u001b[0m\u001b[0mrequest\u001b[0m\u001b[1;33m(\u001b[0m\u001b[0mmethod\u001b[0m\u001b[1;33m=\u001b[0m\u001b[0mmethod\u001b[0m\u001b[1;33m,\u001b[0m \u001b[0murl\u001b[0m\u001b[1;33m=\u001b[0m\u001b[0murl\u001b[0m\u001b[1;33m,\u001b[0m \u001b[1;33m**\u001b[0m\u001b[0mkwargs\u001b[0m\u001b[1;33m)\u001b[0m\u001b[1;33m\u001b[0m\u001b[1;33m\u001b[0m\u001b[0m\n\u001b[0m\u001b[0;32m     57\u001b[0m \u001b[1;33m\u001b[0m\u001b[0m\n",
      "\u001b[1;32mC:\\Anaconda3\\lib\\site-packages\\requests\\sessions.py\u001b[0m in \u001b[0;36mrequest\u001b[1;34m(self, method, url, params, data, headers, cookies, files, auth, timeout, allow_redirects, proxies, hooks, stream, verify, cert, json)\u001b[0m\n\u001b[0;32m    474\u001b[0m         \u001b[0msend_kwargs\u001b[0m\u001b[1;33m.\u001b[0m\u001b[0mupdate\u001b[0m\u001b[1;33m(\u001b[0m\u001b[0msettings\u001b[0m\u001b[1;33m)\u001b[0m\u001b[1;33m\u001b[0m\u001b[1;33m\u001b[0m\u001b[0m\n\u001b[1;32m--> 475\u001b[1;33m         \u001b[0mresp\u001b[0m \u001b[1;33m=\u001b[0m \u001b[0mself\u001b[0m\u001b[1;33m.\u001b[0m\u001b[0msend\u001b[0m\u001b[1;33m(\u001b[0m\u001b[0mprep\u001b[0m\u001b[1;33m,\u001b[0m \u001b[1;33m**\u001b[0m\u001b[0msend_kwargs\u001b[0m\u001b[1;33m)\u001b[0m\u001b[1;33m\u001b[0m\u001b[1;33m\u001b[0m\u001b[0m\n\u001b[0m\u001b[0;32m    476\u001b[0m \u001b[1;33m\u001b[0m\u001b[0m\n",
      "\u001b[1;32mC:\\Anaconda3\\lib\\site-packages\\requests\\sessions.py\u001b[0m in \u001b[0;36msend\u001b[1;34m(self, request, **kwargs)\u001b[0m\n\u001b[0;32m    616\u001b[0m         \u001b[1;31m# Resolve redirects if allowed.\u001b[0m\u001b[1;33m\u001b[0m\u001b[1;33m\u001b[0m\u001b[1;33m\u001b[0m\u001b[0m\n\u001b[1;32m--> 617\u001b[1;33m         \u001b[0mhistory\u001b[0m \u001b[1;33m=\u001b[0m \u001b[1;33m[\u001b[0m\u001b[0mresp\u001b[0m \u001b[1;32mfor\u001b[0m \u001b[0mresp\u001b[0m \u001b[1;32min\u001b[0m \u001b[0mgen\u001b[0m\u001b[1;33m]\u001b[0m \u001b[1;32mif\u001b[0m \u001b[0mallow_redirects\u001b[0m \u001b[1;32melse\u001b[0m \u001b[1;33m[\u001b[0m\u001b[1;33m]\u001b[0m\u001b[1;33m\u001b[0m\u001b[1;33m\u001b[0m\u001b[0m\n\u001b[0m\u001b[0;32m    618\u001b[0m \u001b[1;33m\u001b[0m\u001b[0m\n",
      "\u001b[1;32mC:\\Anaconda3\\lib\\site-packages\\requests\\sessions.py\u001b[0m in \u001b[0;36m<listcomp>\u001b[1;34m(.0)\u001b[0m\n\u001b[0;32m    616\u001b[0m         \u001b[1;31m# Resolve redirects if allowed.\u001b[0m\u001b[1;33m\u001b[0m\u001b[1;33m\u001b[0m\u001b[1;33m\u001b[0m\u001b[0m\n\u001b[1;32m--> 617\u001b[1;33m         \u001b[0mhistory\u001b[0m \u001b[1;33m=\u001b[0m \u001b[1;33m[\u001b[0m\u001b[0mresp\u001b[0m \u001b[1;32mfor\u001b[0m \u001b[0mresp\u001b[0m \u001b[1;32min\u001b[0m \u001b[0mgen\u001b[0m\u001b[1;33m]\u001b[0m \u001b[1;32mif\u001b[0m \u001b[0mallow_redirects\u001b[0m \u001b[1;32melse\u001b[0m \u001b[1;33m[\u001b[0m\u001b[1;33m]\u001b[0m\u001b[1;33m\u001b[0m\u001b[1;33m\u001b[0m\u001b[0m\n\u001b[0m\u001b[0;32m    618\u001b[0m \u001b[1;33m\u001b[0m\u001b[0m\n",
      "\u001b[1;32mC:\\Anaconda3\\lib\\site-packages\\requests\\sessions.py\u001b[0m in \u001b[0;36mresolve_redirects\u001b[1;34m(self, resp, req, stream, timeout, verify, cert, proxies, **adapter_kwargs)\u001b[0m\n\u001b[0;32m    176\u001b[0m                 \u001b[0mallow_redirects\u001b[0m\u001b[1;33m=\u001b[0m\u001b[1;32mFalse\u001b[0m\u001b[1;33m,\u001b[0m\u001b[1;33m\u001b[0m\u001b[1;33m\u001b[0m\u001b[0m\n\u001b[1;32m--> 177\u001b[1;33m                 \u001b[1;33m**\u001b[0m\u001b[0madapter_kwargs\u001b[0m\u001b[1;33m\u001b[0m\u001b[1;33m\u001b[0m\u001b[0m\n\u001b[0m\u001b[0;32m    178\u001b[0m             )\n",
      "\u001b[1;32mC:\\Anaconda3\\lib\\site-packages\\requests\\sessions.py\u001b[0m in \u001b[0;36msend\u001b[1;34m(self, request, **kwargs)\u001b[0m\n\u001b[0;32m    595\u001b[0m         \u001b[1;31m# Send the request\u001b[0m\u001b[1;33m\u001b[0m\u001b[1;33m\u001b[0m\u001b[1;33m\u001b[0m\u001b[0m\n\u001b[1;32m--> 596\u001b[1;33m         \u001b[0mr\u001b[0m \u001b[1;33m=\u001b[0m \u001b[0madapter\u001b[0m\u001b[1;33m.\u001b[0m\u001b[0msend\u001b[0m\u001b[1;33m(\u001b[0m\u001b[0mrequest\u001b[0m\u001b[1;33m,\u001b[0m \u001b[1;33m**\u001b[0m\u001b[0mkwargs\u001b[0m\u001b[1;33m)\u001b[0m\u001b[1;33m\u001b[0m\u001b[1;33m\u001b[0m\u001b[0m\n\u001b[0m\u001b[0;32m    597\u001b[0m \u001b[1;33m\u001b[0m\u001b[0m\n",
      "\u001b[1;32mC:\\Anaconda3\\lib\\site-packages\\requests\\adapters.py\u001b[0m in \u001b[0;36msend\u001b[1;34m(self, request, stream, timeout, verify, cert, proxies)\u001b[0m\n\u001b[0;32m    422\u001b[0m                     \u001b[0mretries\u001b[0m\u001b[1;33m=\u001b[0m\u001b[0mself\u001b[0m\u001b[1;33m.\u001b[0m\u001b[0mmax_retries\u001b[0m\u001b[1;33m,\u001b[0m\u001b[1;33m\u001b[0m\u001b[1;33m\u001b[0m\u001b[0m\n\u001b[1;32m--> 423\u001b[1;33m                     \u001b[0mtimeout\u001b[0m\u001b[1;33m=\u001b[0m\u001b[0mtimeout\u001b[0m\u001b[1;33m\u001b[0m\u001b[1;33m\u001b[0m\u001b[0m\n\u001b[0m\u001b[0;32m    424\u001b[0m                 )\n",
      "\u001b[1;32mC:\\Anaconda3\\lib\\site-packages\\requests\\packages\\urllib3\\connectionpool.py\u001b[0m in \u001b[0;36murlopen\u001b[1;34m(self, method, url, body, headers, retries, redirect, assert_same_host, timeout, pool_timeout, release_conn, chunked, **response_kw)\u001b[0m\n\u001b[0;32m    594\u001b[0m                                                   \u001b[0mbody\u001b[0m\u001b[1;33m=\u001b[0m\u001b[0mbody\u001b[0m\u001b[1;33m,\u001b[0m \u001b[0mheaders\u001b[0m\u001b[1;33m=\u001b[0m\u001b[0mheaders\u001b[0m\u001b[1;33m,\u001b[0m\u001b[1;33m\u001b[0m\u001b[1;33m\u001b[0m\u001b[0m\n\u001b[1;32m--> 595\u001b[1;33m                                                   chunked=chunked)\n\u001b[0m\u001b[0;32m    596\u001b[0m \u001b[1;33m\u001b[0m\u001b[0m\n",
      "\u001b[1;32mC:\\Anaconda3\\lib\\site-packages\\requests\\packages\\urllib3\\connectionpool.py\u001b[0m in \u001b[0;36m_make_request\u001b[1;34m(self, conn, method, url, timeout, chunked, **httplib_request_kw)\u001b[0m\n\u001b[0;32m    351\u001b[0m         \u001b[1;32mtry\u001b[0m\u001b[1;33m:\u001b[0m\u001b[1;33m\u001b[0m\u001b[1;33m\u001b[0m\u001b[0m\n\u001b[1;32m--> 352\u001b[1;33m             \u001b[0mself\u001b[0m\u001b[1;33m.\u001b[0m\u001b[0m_validate_conn\u001b[0m\u001b[1;33m(\u001b[0m\u001b[0mconn\u001b[0m\u001b[1;33m)\u001b[0m\u001b[1;33m\u001b[0m\u001b[1;33m\u001b[0m\u001b[0m\n\u001b[0m\u001b[0;32m    353\u001b[0m         \u001b[1;32mexcept\u001b[0m \u001b[1;33m(\u001b[0m\u001b[0mSocketTimeout\u001b[0m\u001b[1;33m,\u001b[0m \u001b[0mBaseSSLError\u001b[0m\u001b[1;33m)\u001b[0m \u001b[1;32mas\u001b[0m \u001b[0me\u001b[0m\u001b[1;33m:\u001b[0m\u001b[1;33m\u001b[0m\u001b[1;33m\u001b[0m\u001b[0m\n",
      "\u001b[1;32mC:\\Anaconda3\\lib\\site-packages\\requests\\packages\\urllib3\\connectionpool.py\u001b[0m in \u001b[0;36m_validate_conn\u001b[1;34m(self, conn)\u001b[0m\n\u001b[0;32m    830\u001b[0m         \u001b[1;32mif\u001b[0m \u001b[1;32mnot\u001b[0m \u001b[0mgetattr\u001b[0m\u001b[1;33m(\u001b[0m\u001b[0mconn\u001b[0m\u001b[1;33m,\u001b[0m \u001b[1;34m'sock'\u001b[0m\u001b[1;33m,\u001b[0m \u001b[1;32mNone\u001b[0m\u001b[1;33m)\u001b[0m\u001b[1;33m:\u001b[0m  \u001b[1;31m# AppEngine might not have  `.sock`\u001b[0m\u001b[1;33m\u001b[0m\u001b[1;33m\u001b[0m\u001b[0m\n\u001b[1;32m--> 831\u001b[1;33m             \u001b[0mconn\u001b[0m\u001b[1;33m.\u001b[0m\u001b[0mconnect\u001b[0m\u001b[1;33m(\u001b[0m\u001b[1;33m)\u001b[0m\u001b[1;33m\u001b[0m\u001b[1;33m\u001b[0m\u001b[0m\n\u001b[0m\u001b[0;32m    832\u001b[0m \u001b[1;33m\u001b[0m\u001b[0m\n",
      "\u001b[1;32mC:\\Anaconda3\\lib\\site-packages\\requests\\packages\\urllib3\\connection.py\u001b[0m in \u001b[0;36mconnect\u001b[1;34m(self)\u001b[0m\n\u001b[0;32m    288\u001b[0m                                     \u001b[0mserver_hostname\u001b[0m\u001b[1;33m=\u001b[0m\u001b[0mhostname\u001b[0m\u001b[1;33m,\u001b[0m\u001b[1;33m\u001b[0m\u001b[1;33m\u001b[0m\u001b[0m\n\u001b[1;32m--> 289\u001b[1;33m                                     ssl_version=resolved_ssl_version)\n\u001b[0m\u001b[0;32m    290\u001b[0m \u001b[1;33m\u001b[0m\u001b[0m\n",
      "\u001b[1;32mC:\\Anaconda3\\lib\\site-packages\\requests\\packages\\urllib3\\util\\ssl_.py\u001b[0m in \u001b[0;36mssl_wrap_socket\u001b[1;34m(sock, keyfile, certfile, cert_reqs, ca_certs, server_hostname, ssl_version, ciphers, ssl_context, ca_cert_dir)\u001b[0m\n\u001b[0;32m    307\u001b[0m     \u001b[1;32mif\u001b[0m \u001b[0mHAS_SNI\u001b[0m\u001b[1;33m:\u001b[0m  \u001b[1;31m# Platform-specific: OpenSSL with enabled SNI\u001b[0m\u001b[1;33m\u001b[0m\u001b[1;33m\u001b[0m\u001b[0m\n\u001b[1;32m--> 308\u001b[1;33m         \u001b[1;32mreturn\u001b[0m \u001b[0mcontext\u001b[0m\u001b[1;33m.\u001b[0m\u001b[0mwrap_socket\u001b[0m\u001b[1;33m(\u001b[0m\u001b[0msock\u001b[0m\u001b[1;33m,\u001b[0m \u001b[0mserver_hostname\u001b[0m\u001b[1;33m=\u001b[0m\u001b[0mserver_hostname\u001b[0m\u001b[1;33m)\u001b[0m\u001b[1;33m\u001b[0m\u001b[1;33m\u001b[0m\u001b[0m\n\u001b[0m\u001b[0;32m    309\u001b[0m \u001b[1;33m\u001b[0m\u001b[0m\n",
      "\u001b[1;32mC:\\Anaconda3\\lib\\ssl.py\u001b[0m in \u001b[0;36mwrap_socket\u001b[1;34m(self, sock, server_side, do_handshake_on_connect, suppress_ragged_eofs, server_hostname, session)\u001b[0m\n\u001b[0;32m    422\u001b[0m             \u001b[0mcontext\u001b[0m\u001b[1;33m=\u001b[0m\u001b[0mself\u001b[0m\u001b[1;33m,\u001b[0m\u001b[1;33m\u001b[0m\u001b[1;33m\u001b[0m\u001b[0m\n\u001b[1;32m--> 423\u001b[1;33m             \u001b[0msession\u001b[0m\u001b[1;33m=\u001b[0m\u001b[0msession\u001b[0m\u001b[1;33m\u001b[0m\u001b[1;33m\u001b[0m\u001b[0m\n\u001b[0m\u001b[0;32m    424\u001b[0m         )\n",
      "\u001b[1;32mC:\\Anaconda3\\lib\\ssl.py\u001b[0m in \u001b[0;36m_create\u001b[1;34m(cls, sock, server_side, do_handshake_on_connect, suppress_ragged_eofs, server_hostname, context, session)\u001b[0m\n\u001b[0;32m    869\u001b[0m                         \u001b[1;32mraise\u001b[0m \u001b[0mValueError\u001b[0m\u001b[1;33m(\u001b[0m\u001b[1;34m\"do_handshake_on_connect should not be specified for non-blocking sockets\"\u001b[0m\u001b[1;33m)\u001b[0m\u001b[1;33m\u001b[0m\u001b[1;33m\u001b[0m\u001b[0m\n\u001b[1;32m--> 870\u001b[1;33m                     \u001b[0mself\u001b[0m\u001b[1;33m.\u001b[0m\u001b[0mdo_handshake\u001b[0m\u001b[1;33m(\u001b[0m\u001b[1;33m)\u001b[0m\u001b[1;33m\u001b[0m\u001b[1;33m\u001b[0m\u001b[0m\n\u001b[0m\u001b[0;32m    871\u001b[0m             \u001b[1;32mexcept\u001b[0m \u001b[1;33m(\u001b[0m\u001b[0mOSError\u001b[0m\u001b[1;33m,\u001b[0m \u001b[0mValueError\u001b[0m\u001b[1;33m)\u001b[0m\u001b[1;33m:\u001b[0m\u001b[1;33m\u001b[0m\u001b[1;33m\u001b[0m\u001b[0m\n",
      "\u001b[1;32mC:\\Anaconda3\\lib\\ssl.py\u001b[0m in \u001b[0;36mdo_handshake\u001b[1;34m(self, block)\u001b[0m\n\u001b[0;32m   1138\u001b[0m                 \u001b[0mself\u001b[0m\u001b[1;33m.\u001b[0m\u001b[0msettimeout\u001b[0m\u001b[1;33m(\u001b[0m\u001b[1;32mNone\u001b[0m\u001b[1;33m)\u001b[0m\u001b[1;33m\u001b[0m\u001b[1;33m\u001b[0m\u001b[0m\n\u001b[1;32m-> 1139\u001b[1;33m             \u001b[0mself\u001b[0m\u001b[1;33m.\u001b[0m\u001b[0m_sslobj\u001b[0m\u001b[1;33m.\u001b[0m\u001b[0mdo_handshake\u001b[0m\u001b[1;33m(\u001b[0m\u001b[1;33m)\u001b[0m\u001b[1;33m\u001b[0m\u001b[1;33m\u001b[0m\u001b[0m\n\u001b[0m\u001b[0;32m   1140\u001b[0m         \u001b[1;32mfinally\u001b[0m\u001b[1;33m:\u001b[0m\u001b[1;33m\u001b[0m\u001b[1;33m\u001b[0m\u001b[0m\n",
      "\u001b[1;31mKeyboardInterrupt\u001b[0m: ",
      "\nDuring handling of the above exception, another exception occurred:\n",
      "\u001b[1;31mKeyboardInterrupt\u001b[0m                         Traceback (most recent call last)",
      "\u001b[1;32m<ipython-input-5-53e0df87b50c>\u001b[0m in \u001b[0;36m<module>\u001b[1;34m\u001b[0m\n\u001b[0;32m     60\u001b[0m             \u001b[0mreview_num\u001b[0m\u001b[1;33m.\u001b[0m\u001b[0mappend\u001b[0m\u001b[1;33m(\u001b[0m\u001b[1;34m''\u001b[0m\u001b[1;33m)\u001b[0m\u001b[1;33m\u001b[0m\u001b[1;33m\u001b[0m\u001b[0m\n\u001b[0;32m     61\u001b[0m             \u001b[0memail\u001b[0m\u001b[1;33m.\u001b[0m\u001b[0mappend\u001b[0m\u001b[1;33m(\u001b[0m\u001b[1;34m''\u001b[0m\u001b[1;33m)\u001b[0m\u001b[1;33m\u001b[0m\u001b[1;33m\u001b[0m\u001b[0m\n\u001b[1;32m---> 62\u001b[1;33m             \u001b[0mtime\u001b[0m\u001b[1;33m.\u001b[0m\u001b[0msleep\u001b[0m\u001b[1;33m(\u001b[0m\u001b[1;36m10\u001b[0m\u001b[1;33m)\u001b[0m\u001b[1;33m\u001b[0m\u001b[1;33m\u001b[0m\u001b[0m\n\u001b[0m\u001b[0;32m     63\u001b[0m             \u001b[0mprint\u001b[0m\u001b[1;33m(\u001b[0m\u001b[1;34m\"Was a nice sleep, now let me continue...\"\u001b[0m\u001b[1;33m)\u001b[0m\u001b[1;33m\u001b[0m\u001b[1;33m\u001b[0m\u001b[0m\n\u001b[0;32m     64\u001b[0m             \u001b[1;32mcontinue\u001b[0m\u001b[1;33m\u001b[0m\u001b[1;33m\u001b[0m\u001b[0m\n",
      "\u001b[1;31mKeyboardInterrupt\u001b[0m: "
     ]
    }
   ],
   "source": [
    "emailReg = re.compile(r'([a-zA-Z0-9._%+-]+@[a-zA-Z0-9.-]+(\\.[a-zA-Z]{2,4}))')\n",
    "\n",
    "start_time = time.time()\n",
    "a = 0\n",
    "b = []\n",
    "\n",
    "dt_index = pd.date_range(start='20190101', end='20191231')\n",
    "dt_list = dt_index.strftime(\"%Y%m%d\").tolist()\n",
    "\n",
    "for date in tqdm_notebook(dt_list):\n",
    "\n",
    "    print(date)\n",
    "    df = pd.read_csv(date + '.csv')\n",
    "    reporter = []      \n",
    "    contents = []\n",
    "    email = []\n",
    "    review_num = []\n",
    "    url = []\n",
    "    num = []\n",
    "    for i in tqdm_notebook(range(len(df))):\n",
    "        try:\n",
    "            num.append(i+1)\n",
    "            soup = BeautifulSoup(requests.get(df['url'][i],verify=False).text,\"lxml\")\n",
    "            soup_2 = soup.select('.info_view')[0].text\n",
    "            soup_3 = soup.select('.article_view > section')[0].text\n",
    "\n",
    "            # url.append(df['url'][i])\n",
    "            # soup_2\n",
    "            review_num.append(soup_2[soup_2.find('댓글')+2:].replace('개','').strip())\n",
    "            reporter.append(soup_2[:soup_2.replace('입력','기자').find('기자')].               \n",
    "                replace('디지털뉴스국 ','').replace('디지털뉴스부 ','').replace('파이낸셜뉴스 ','').replace('CBS노컷뉴스 ','').\n",
    "                replace('CBS 노컷뉴스 ','').replace('- ','').replace('용인시민신문 ','').strip())\n",
    "\n",
    "            # soup_3의 기사내용\n",
    "            contents.append(' '.join(soup_3.split()))\n",
    "\n",
    "            # 이메일\n",
    "            text = soup_3\n",
    "            matches = []\n",
    "            for groups in emailReg.findall(text):\n",
    "                matches.append(groups[0])\n",
    "\n",
    "            # 결과를 클립보드에 복사한다.\n",
    "            if len(matches) > 0:\n",
    "            #    pyperclip.copy('\\n'.join(matches))\n",
    "            #    print('\\n'.join(matches))\n",
    "                email.append('\\n'.join(matches))\n",
    "            else:\n",
    "            #    print('추출할 메일주소가 없습니다.')\n",
    "                email.append('')\n",
    "\n",
    "        except:\n",
    "            print('------- 삐용삐용 %d 번째에서 에러에러!!!! -------'%int(num[-1]))\n",
    "            print(\"Connection refused by the server..\")\n",
    "            print(\"Let me sleep for 10 seconds\")\n",
    "            print(\"ZZzzzz...\")\n",
    "#            url.append('')\n",
    "            reporter.append('')\n",
    "            contents.append('')\n",
    "            review_num.append('')\n",
    "            email.append('')\n",
    "            time.sleep(10)\n",
    "            print(\"Was a nice sleep, now let me continue...\")\n",
    "            continue\n",
    "\n",
    "    df['contents'] = contents\n",
    "    df['review_count'] = review_num\n",
    "#    df.insert(0,\"url\",url,True)\n",
    "    df.insert(0,\"no\",num,True)\n",
    "    df.insert(11,\"reporter\",reporter,True)\n",
    "    df.insert(12,\"email\",email,True)\n",
    "    df.to_csv(date + '_contents.csv',encoding='utf-8-sig',index=False) #utf-8-sig \n",
    "    df.to_csv(date + '_contents.csvd',encoding='utf-8-sig',index=False) #utf-8-sig "
   ]
  },
  {
   "cell_type": "code",
   "execution_count": 14,
   "metadata": {},
   "outputs": [],
   "source": [
    "review_num =[]      \n",
    "soup = BeautifulSoup(requests.get('https://news.v.daum.net/v/20200101135612485',verify=False).text,\"lxml\")\n",
    "soup_2 = soup.select('.info_view')[0].text\n",
    "soup_3 = soup.select('.article_view > section')[0].text\n",
    "\n",
    "# url.append(df['url'][i])\n",
    "# soup_2\n",
    "review_num.append(soup_2[soup_2.find('댓글')+2:].replace('개','').strip())"
   ]
  },
  {
   "cell_type": "code",
   "execution_count": 30,
   "metadata": {},
   "outputs": [
    {
     "data": {
      "text/plain": [
       "[]"
      ]
     },
     "execution_count": 30,
     "metadata": {},
     "output_type": "execute_result"
    }
   ],
   "source": [
    "soup.select('.list_comment')"
   ]
  }
 ],
 "metadata": {
  "kernelspec": {
   "display_name": "Python 3",
   "language": "python",
   "name": "python3"
  },
  "language_info": {
   "codemirror_mode": {
    "name": "ipython",
    "version": 3
   },
   "file_extension": ".py",
   "mimetype": "text/x-python",
   "name": "python",
   "nbconvert_exporter": "python",
   "pygments_lexer": "ipython3",
   "version": "3.7.4"
  }
 },
 "nbformat": 4,
 "nbformat_minor": 2
}
